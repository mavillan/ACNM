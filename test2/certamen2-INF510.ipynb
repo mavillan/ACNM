{
 "cells": [
  {
   "cell_type": "code",
   "execution_count": null,
   "metadata": {
    "collapsed": true
   },
   "outputs": [],
   "source": [
    "<center>\n",
    "    <h1> INF510 - Advanced Computational Methods  </h1>\n",
    "    <h2> Test #2 - Spectral Methods  </h2> \n",
    "</center>\n",
    "\n",
    "* Martín Villanueva - `martin.villanueva@alumnos.usm.cl` - **rol:** 201104012-0\n",
    "\n",
    "_DI UTFSM. December 2016._"
   ]
  },
  {
   "cell_type": "code",
   "execution_count": 1,
   "metadata": {
    "collapsed": true
   },
   "outputs": [],
   "source": [
    "%matplotlib inline\n",
    "\n",
    "import numpy as np\n",
    "import matplotlib.pyplot as plt"
   ]
  },
  {
   "cell_type": "markdown",
   "metadata": {},
   "source": [
    "### Helper functions"
   ]
  },
  {
   "cell_type": "code",
   "execution_count": 2,
   "metadata": {
    "collapsed": true
   },
   "outputs": [],
   "source": [
    "def cheb(N):\n",
    "    if N==0:\n",
    "        D=0.\n",
    "        x=1.\n",
    "        return D,x\n",
    "    x = np.cos(np.pi*np.arange(N+1)/N)\n",
    "    c=np.hstack((2,np.ones(N-1),2))*((-1.)**np.arange(N+1))\n",
    "    X=np.tile(x,(N+1,1)).T\n",
    "    dX=X-X.T\n",
    "    D = np.outer(c,1./c)/(dX+np.eye(N+1))\n",
    "    D = D - np.diag(np.sum(D.T,axis=0))\n",
    "    return D,x"
   ]
  },
  {
   "cell_type": "markdown",
   "metadata": {},
   "source": [
    "### Question `#1`"
   ]
  },
  {
   "cell_type": "code",
   "execution_count": 12,
   "metadata": {
    "collapsed": false
   },
   "outputs": [],
   "source": [
    "D,x = cheb(5)\n",
    "D2 = np.dot(D,D)"
   ]
  },
  {
   "cell_type": "code",
   "execution_count": 13,
   "metadata": {
    "collapsed": false
   },
   "outputs": [],
   "source": [
    "xy_grid = np.meshgrid(x, x, sparse=False)"
   ]
  },
  {
   "cell_type": "code",
   "execution_count": 14,
   "metadata": {
    "collapsed": true
   },
   "outputs": [],
   "source": [
    "def mf_operator(U):\n",
    "    \"\"\"\n",
    "    Apply the Uxx+Uyy operator in a matrix free way\n",
    "    \"\"\"\n",
    "    Uxx = np.empty(U.shape)\n",
    "    Uyy = np.empty(U.shape)\n",
    "    for i in range(U.shape[0]):\n",
    "        Uxx[:,i] = np.dot(D2, U[:,i])\n",
    "        Uyy[:,i] = np.dot(D2, U[i,:])\n",
    "    return Uxx + Uyy.T"
   ]
  },
  {
   "cell_type": "code",
   "execution_count": null,
   "metadata": {
    "collapsed": true
   },
   "outputs": [],
   "source": [
    "def GMRes(A, b, x0, max_iter, restart=None):\n",
    "    \n",
    "    r_array = np.array([])\n",
    "    r = b - np.dot(A, x0)\n",
    "    Q = np.zeros((b.size, b.size))\n",
    "    H = np.zeros((b.size, b.size))\n",
    "    Q[:,0] = r/np.linalg.norm(r)\n",
    "    r_array = np.append(r_array, np.linalg.norm(r))\n",
    "    \n",
    "    for k in range(0, max_iter):\n",
    "        y = np.dot(A, Q[:,k])\n",
    "        for j in range(0, k+1):\n",
    "            H[j, k] = np.dot(Q[:,j], y)\n",
    "            y = y - np.dot(H[j, k], Q[:,j])\n",
    "        if(k+1<b.size):\n",
    "            H[k+1, k] = np.linalg.norm(y)\n",
    "            if(H[k+1, k] != 0):\n",
    "                Q[:, k+1] = y/H[k+1, k]\n",
    "            e = np.zeros(k+2)\n",
    "            e[0] = 1\n",
    "            h = H[0:k+2,0:k+1]\n",
    "        else:\n",
    "            h = H[0:k+1,0:k+1]\n",
    "        ck = np.linalg.lstsq(h, np.linalg.norm(r)*e)[0]\n",
    "        if(k+1<b.size):\n",
    "            x = x0 + np.dot(Q[:,0:(k+1)], ck)\n",
    "        else:\n",
    "            x = x0 + np.dot(Q, ck)\n",
    "        r_array = np.append(r_array, np.linalg.norm(b - np.dot(A,x)))\n",
    "        \n",
    "    return x, r_array"
   ]
  },
  {
   "cell_type": "markdown",
   "metadata": {},
   "source": [
    "### Question `#2`"
   ]
  },
  {
   "cell_type": "code",
   "execution_count": null,
   "metadata": {
    "collapsed": true
   },
   "outputs": [],
   "source": []
  },
  {
   "cell_type": "code",
   "execution_count": null,
   "metadata": {
    "collapsed": true
   },
   "outputs": [],
   "source": []
  },
  {
   "cell_type": "code",
   "execution_count": null,
   "metadata": {
    "collapsed": true
   },
   "outputs": [],
   "source": []
  },
  {
   "cell_type": "markdown",
   "metadata": {},
   "source": [
    "### Question `#3`"
   ]
  },
  {
   "cell_type": "code",
   "execution_count": null,
   "metadata": {
    "collapsed": true
   },
   "outputs": [],
   "source": []
  },
  {
   "cell_type": "code",
   "execution_count": null,
   "metadata": {
    "collapsed": true
   },
   "outputs": [],
   "source": []
  },
  {
   "cell_type": "code",
   "execution_count": null,
   "metadata": {
    "collapsed": true
   },
   "outputs": [],
   "source": []
  },
  {
   "cell_type": "markdown",
   "metadata": {},
   "source": [
    "### Question `#4`"
   ]
  },
  {
   "cell_type": "code",
   "execution_count": null,
   "metadata": {
    "collapsed": true
   },
   "outputs": [],
   "source": []
  },
  {
   "cell_type": "code",
   "execution_count": null,
   "metadata": {
    "collapsed": true
   },
   "outputs": [],
   "source": []
  },
  {
   "cell_type": "code",
   "execution_count": null,
   "metadata": {
    "collapsed": true
   },
   "outputs": [],
   "source": []
  }
 ],
 "metadata": {
  "anaconda-cloud": {},
  "kernelspec": {
   "display_name": "Python [conda root]",
   "language": "python",
   "name": "conda-root-py"
  },
  "language_info": {
   "codemirror_mode": {
    "name": "ipython",
    "version": 2
   },
   "file_extension": ".py",
   "mimetype": "text/x-python",
   "name": "python",
   "nbconvert_exporter": "python",
   "pygments_lexer": "ipython2",
   "version": "2.7.13"
  }
 },
 "nbformat": 4,
 "nbformat_minor": 2
}
