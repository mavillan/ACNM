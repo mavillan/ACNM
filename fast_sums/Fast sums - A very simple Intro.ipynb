{
 "cells": [
  {
   "cell_type": "markdown",
   "metadata": {},
   "source": [
    "### INF-510, 2016, Claudio Torres, ctorres@inf.utfsm.cl. DI-UTFSM"
   ]
  },
  {
   "cell_type": "markdown",
   "metadata": {},
   "source": [
    "# Fast sum of sinc!"
   ]
  },
  {
   "cell_type": "code",
   "execution_count": 4,
   "metadata": {
    "collapsed": true
   },
   "outputs": [],
   "source": [
    "import matplotlib.pyplot as plt\n",
    "%matplotlib inline\n",
    "import numpy as np\n",
    "import scipy.sparse.linalg as sp\n",
    "from scipy import interpolate\n",
    "import scipy as spf\n",
    "from sympy import *\n",
    "import sympy as sym\n",
    "from scipy.linalg import toeplitz\n",
    "from ipywidgets import interact\n",
    "from ipywidgets import IntSlider\n",
    "from mpl_toolkits.mplot3d import Axes3D\n",
    "from matplotlib import cm\n",
    "from matplotlib.ticker import LinearLocator, FormatStrFormatter\n",
    "# The variable M is used for changing the default size of the figures\n",
    "M=5"
   ]
  },
  {
   "cell_type": "markdown",
   "metadata": {},
   "source": [
    "## The magical and beautiful sinc function"
   ]
  },
  {
   "cell_type": "code",
   "execution_count": 5,
   "metadata": {
    "collapsed": true
   },
   "outputs": [],
   "source": [
    "def Sh2(x):\n",
    "    if np.abs(x)<=1e-10:\n",
    "        return 1.0\n",
    "    else:\n",
    "        y=x\n",
    "        return np.sin(y)/y\n",
    "Sh2v = np.vectorize(Sh2) "
   ]
  },
  {
   "cell_type": "code",
   "execution_count": 6,
   "metadata": {
    "collapsed": true
   },
   "outputs": [],
   "source": [
    "# The domain\n",
    "L=10\n",
    "# The number of points \n",
    "N=100\n",
    "x=np.linspace(-L,L,100)\n",
    "\n",
    "# Fixing randomness\n",
    "np.random.seed(0)\n",
    "\n",
    "# The weights\n",
    "y=np.random.rand(N)*2-1\n"
   ]
  },
  {
   "cell_type": "code",
   "execution_count": 7,
   "metadata": {
    "collapsed": true
   },
   "outputs": [],
   "source": [
    "# The simple algorithm\n",
    "def F(xx,x,y,i=None):\n",
    "    n = x.shape[0]\n",
    "    n_out = xx.shape[0] \n",
    "    out = np.zeros(n_out)\n",
    "    # Plots all sincs\n",
    "    if i==None:\n",
    "        for i in np.arange(n):\n",
    "            out+=y[i]*Sh2v(xx-x[i])\n",
    "    else: # Just plot one sinc\n",
    "        out+=y[i]*Sh2v(xx-x[i])\n",
    "    return out\n",
    "def F_pre_fast(xx,x,y,m,x_bar):\n",
    "    n = x.shape[0]\n",
    "    n_out = xx.shape[0] \n",
    "    out = np.zeros(n_out)\n",
    "    # First sum: sin\n",
    "    for i in np.arange(n):\n",
    "        out2=0\n",
    "        for j in np.arange(m):\n",
    "            out2+=(x[i]-x_bar)**j/(xx-x_bar)**(j+1)\n",
    "        out+=y[i]*np.cos(x[i])*out2\n",
    "    out*=np.sin(xx)\n",
    "    # Second sum: cos\n",
    "    out3=0\n",
    "    for i in np.arange(n):\n",
    "        out4=0\n",
    "        for j in np.arange(m):\n",
    "            out4+=(x[i]-x_bar)**j/(xx-x_bar)**(j+1)\n",
    "        out3+=y[i]*np.sin(x[i])*out4\n",
    "    out3*=np.cos(xx)\n",
    "    return out-out3\n",
    "F_pre_fastv = np.vectorize(F_pre_fast) "
   ]
  },
  {
   "cell_type": "code",
   "execution_count": 8,
   "metadata": {
    "collapsed": false
   },
   "outputs": [
    {
     "data": {
      "image/png": "[encoded data removed]",
      "text/plain": [
       "<matplotlib.figure.Figure at 0x10f300c50>"
      ]
     },
     "metadata": {},
     "output_type": "display_data"
    }
   ],
   "source": [
    "xx=np.linspace(-4*L,4*L,10*N)\n",
    "yy=F(xx,x,y)\n",
    "plt.figure(figsize=(M,M))\n",
    "plt.plot(xx,yy)\n",
    "plt.show()"
   ]
  },
  {
   "cell_type": "code",
   "execution_count": 9,
   "metadata": {
    "collapsed": false
   },
   "outputs": [],
   "source": [
    "# Computing 'fast' coefficients\n",
    "def compute_coefficients(x,y,m,x_bar):\n",
    "    coef_cos=np.zeros(m)\n",
    "    coef_sin=np.zeros(m)\n",
    "    coef_cos[0]=np.sum(y*np.cos(x))\n",
    "    coef_sin[0]=np.sum(y*np.sin(x))\n",
    "    y_cos_x=y*np.cos(x)\n",
    "    y_sin_x=y*np.sin(x)\n",
    "    for j in np.arange(1,m):\n",
    "        coef_cos[j]=np.sum(y_cos_x*((x-x_bar)**j))\n",
    "        coef_sin[j]=np.sum(y_sin_x*((x-x_bar)**j))\n",
    "    return coef_cos,coef_sin\n",
    "# Evaluate fast sums with coefficients pre-computed (this is the real trick: pre-computacion!)\n",
    "def evaluate_fast_sum(xx,coef_cos,coef_sin,x_bar):\n",
    "    m=coef_sin.shape[0]\n",
    "    # Coefficient j=0\n",
    "    out_cos=np.zeros(xx.shape[0])\n",
    "    out_sin=np.zeros(xx.shape[0])\n",
    "    for j in np.arange(m):\n",
    "        out_cos+=coef_cos[j]/((xx-x_bar)**(j+1))\n",
    "        out_sin+=coef_sin[j]/((xx-x_bar)**(j+1))\n",
    "    return np.sin(xx)*out_cos-np.cos(xx)*out_sin\n",
    "evaluate_fast_sumv = np.vectorize(evaluate_fast_sum) "
   ]
  },
  {
   "cell_type": "code",
   "execution_count": 10,
   "metadata": {
    "collapsed": true
   },
   "outputs": [],
   "source": [
    "# Slicing the data\n",
    "mask_inner = (x<=-L/2)\n",
    "mask_far_away = (x>=0)\n",
    "x_inner = x[mask_inner]\n",
    "y_inner = y[mask_inner]\n",
    "x_far_away = x[mask_far_away]\n",
    "y_far_away = y[mask_far_away]"
   ]
  },
  {
   "cell_type": "code",
   "execution_count": 15,
   "metadata": {
    "collapsed": false
   },
   "outputs": [
    {
     "data": {
      "image/png": "[encoded data removed]",
      "text/plain": [
       "<matplotlib.figure.Figure at 0x10405f320>"
      ]
     },
     "metadata": {},
     "output_type": "display_data"
    }
   ],
   "source": [
    "def change_m(m=1):\n",
    "    x_bar=x_inner[int(x_inner.shape[0]/2)]\n",
    "    coef_cos,coef_sin=compute_coefficients(x_inner,y_inner,m,x_bar)\n",
    "\n",
    "    xx=np.linspace(np.min(x_far_away)-6,np.max(x_far_away)*2,40*N)\n",
    "    \n",
    "    # Original\n",
    "    yy=F(xx,x_inner,y_inner)\n",
    "\n",
    "    # Pre fast without rearrangements\n",
    "    yy_pre_fast=F_pre_fast(xx,x_inner,y_inner,m,x_bar)\n",
    "\n",
    "    # My first 'Fast' sum. Finally!\n",
    "    yy_f=evaluate_fast_sum(xx,coef_cos,coef_sin,x_bar)\n",
    "\n",
    "    fig = plt.figure(figsize=(2*M,M))\n",
    "\n",
    "    plt.subplot(121)\n",
    "    plt.plot(xx,yy,'b')\n",
    "    plt.plot(xx,yy_pre_fast,'g')\n",
    "    plt.plot(xx,yy_f,'r')\n",
    "    plt.grid(True)\n",
    "    \n",
    "    plt.subplot(122)\n",
    "    plt.semilogy(xx,np.abs(yy-yy_f),'b')\n",
    "    plt.grid(True)\n",
    "    plt.ylim((1e-17,1e1))\n",
    "    plt.show()\n",
    "interact(change_m,m=(1,50,1))"
   ]
  },
  {
   "cell_type": "code",
   "execution_count": null,
   "metadata": {
    "collapsed": true
   },
   "outputs": [],
   "source": []
  }
 ],
 "metadata": {
  "anaconda-cloud": {},
  "kernelspec": {
   "display_name": "Python [default]",
   "language": "python",
   "name": "python3"
  },
  "language_info": {
   "codemirror_mode": {
    "name": "ipython",
    "version": 3
   },
   "file_extension": ".py",
   "mimetype": "text/x-python",
   "name": "python",
   "nbconvert_exporter": "python",
   "pygments_lexer": "ipython3",
   "version": "3.4.4"
  },
  "widgets": {
   "state": {
    "5717c04cf5b841868cfb2dd6123f27cb": {
     "views": [
      {
       "cell_index": 10
      }
     ]
    }
   },
   "version": "1.2.0"
  }
 },
 "nbformat": 4,
 "nbformat_minor": 0
}
