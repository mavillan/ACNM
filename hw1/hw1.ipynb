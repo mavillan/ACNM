{
 "cells": [
  {
   "cell_type": "markdown",
   "metadata": {
    "collapsed": true
   },
   "source": [
    "<center>\n",
    "    <h1> INF510 - Computational Numerical Methods  </h1>\n",
    "    <h2> Homework #1 </h2> \n",
    "</center>\n",
    "\n",
    "_Notebook created by Martín Villanueva - `martin.villanueva@alumnos.usm.cl` - **rol:** 201104012-0_. DI UTFSM. August 2016."
   ]
  },
  {
   "cell_type": "code",
   "execution_count": 1,
   "metadata": {
    "collapsed": true
   },
   "outputs": [],
   "source": [
    "%matplotlib inline\n",
    "import numba\n",
    "import numpy as np\n",
    "import matplotlib.pyplot as plt\n",
    "from math import sqrt\n",
    "import scipy as sp\n",
    "import scipy.optimize\n",
    "import sympy as sym"
   ]
  },
  {
   "cell_type": "markdown",
   "metadata": {},
   "source": [
    "## Table of Contents\n",
    "* [Question I](#1)\n",
    "* [Question II](#2)\n",
    "* [Question III](#3)\n",
    "* [Question IV](#4)\n",
    "* [Question V](#5)\n",
    "* [Question VI](#6)\n",
    "* [Question VII](#7)\n",
    "* [Question VIII](#8)\n",
    "* [Question IX](#9)\n",
    "* [Question X](#10)\n",
    "* [Question XI](#11)\n",
    "* [Question XII](#12)\n",
    "* [Question XIII](#13)\n",
    "* [Question XIV](#14)\n",
    "* [Question XV](#15)\n",
    "* [Question XVI](#16)"
   ]
  },
  {
   "cell_type": "markdown",
   "metadata": {},
   "source": [
    "<div id='1' />\n",
    "## Question I"
   ]
  },
  {
   "cell_type": "markdown",
   "metadata": {},
   "source": [
    "### (a) Singular matrix\n",
    "\n",
    "There are many equivalent ways of defining such matrices. The most simple: A square matrix $A$ is singular if it don't have an inverse. Next a list of equivalent properties are listed:\n",
    "* Not full-rank.\n",
    "* $\\text{det}(A)=0$.\n",
    "* The columns and rows of $A$ are linearly independent.\n",
    "* $A$ has at least some $0$ eigenvalue.\n",
    "* etc."
   ]
  },
  {
   "cell_type": "markdown",
   "metadata": {},
   "source": [
    "### (b) Vandermonde Matrix\n",
    "\n",
    "This matrix appear when we try to solve the problem of polynomial interpolation of set of points. Let $p(x)=\\alpha_0 + \\alpha_1 x + \\cdots + \\alpha_{n-1} x^{n-1}$ and a set of $n$ points $S=\\{(x_k,y_k): \\ k=1:n\\}$. Then by doing $p(x_k)=y_k$ we get:\n",
    "$$ V={\\begin{bmatrix}1&x _{1}&x _{1}^{2}&\\dots &x _{1}^{n-1}\\\\1&x _{2}&x _{2}^{2}&\\dots &x _{2}^{n-1}\\\\1&x _{3}&x _{3}^{2}&\\dots &x _{3}^{n-1}\\\\\\vdots &\\vdots &\\vdots &\\ddots &\\vdots \\\\1&x _{n}&x _{n}^{2}&\\dots &x _{n}^{n-1}\\end{bmatrix}}\n",
    "$$\n",
    "The major problem with such matrix, is that it is known to be ill-conditioned, so solving the system $V \\mathbf{\\alpha} = \\mathbf{y}$ is not the way to find the coefficients of $p$."
   ]
  },
  {
   "cell_type": "markdown",
   "metadata": {},
   "source": [
    "### (c) Symmetric Matrix\n",
    "\n",
    "A symmetric matrix $A$ is a square real matrix, that is equal to its transpose: $A^T = A$. Some important properties:\n",
    "* The sum and difference of two symmetric matrices is again symmetric.\n",
    "* Symmetric matrices are diagonalizable.\n",
    "* All its eigenvalues are real, and eigenvectors are linearly independent."
   ]
  },
  {
   "cell_type": "markdown",
   "metadata": {},
   "source": [
    "### (d) Hermitian Matrix\n",
    "\n",
    "This is the extension of symmetric matrices, for complex valued matrix. A complex matrix $A$ is hermitian, if it's equal to its conjugate transpose: $A^* = A$. Some important properties:\n",
    "* The entries of the diagonal are all real.\n",
    "* Hermitian matrices are diagonalizable.\n",
    "* All its eigenvalues are real, and eigenvectors are linearly independent."
   ]
  },
  {
   "cell_type": "markdown",
   "metadata": {},
   "source": [
    "### (e) Skew-Hermitian Matrix\n",
    "A complex valued matrix $A$ is skew-hermitian, if it conjugate transpose is equal to its negative: $A^* = -A$. Some important properties:\n",
    "* The eigenvalues of a skew-Hermitian matrix are all purely imaginary or zero\n",
    "* They are diagonalizable.\n",
    "* All entries on the main diagonal of a skew-Hermitian matrix have to be pure imaginary."
   ]
  },
  {
   "cell_type": "markdown",
   "metadata": {},
   "source": [
    "### (f) Unitary Matrix\n",
    "\n",
    "A square matrix $U$ is unitary if it conjugate transpose $U^*$ is his inverse: $UU^* = U^* U = I$. The most important properties are:\n",
    "\n",
    "* All his columns are pairwise orthonormal (orthogonal and unitary).\n",
    "* It doesn't change the norm $||\\cdot||_2$ under multiplication by vectors: $||Ux||_2 = ||x||$."
   ]
  },
  {
   "cell_type": "markdown",
   "metadata": {},
   "source": [
    "### (g) Jacobian Matrix\n",
    "Given a vectorial function $\\mathbf{f}: \\mathbb{R}^n \\rightarrow \\mathbb{R}^m$, the Jacobian matrix of $\\mathbf{J}$ of $\\mathbf{f}$ is as follows:\n",
    "$$\n",
    "\\mathbf {J} ={\\frac {d\\mathbf {f} }{d\\mathbf {x} }}={\\begin{bmatrix}{\\dfrac {\\partial \\mathbf {f} }{\\partial x_{1}}}&\\cdots &{\\dfrac {\\partial \\mathbf {f} }{\\partial x_{n}}}\\end{bmatrix}}={\\begin{bmatrix}{\\dfrac {\\partial f_{1}}{\\partial x_{1}}}&\\cdots &{\\dfrac {\\partial f_{1}}{\\partial x_{n}}}\\\\\\vdots &\\ddots &\\vdots \\\\{\\dfrac {\\partial f_{m}}{\\partial x_{1}}}&\\cdots &{\\dfrac {\\partial f_{m}}{\\partial x_{n}}}\\end{bmatrix}}\n",
    "$$\n",
    "ie, it contain the partial derivative of each $f_i$ in $\\mathbf{f}=[f_1, f_2, \\cdots, f_m]$ respect to each variable $x_j$ in $\\mathbf{x} = [x_1, x_2, \\cdots, x_n]$. \n",
    "\n",
    "This matrix is the high-dimensional equivalent of the 1D-derivative, and so, gives us information about the rate of change of $\\mathbf{f}$ at each dimension. \n",
    "\n",
    "This matrix has important applications. The most notable, the multivariate Taylor expansion of a vectorial function."
   ]
  },
  {
   "cell_type": "markdown",
   "metadata": {},
   "source": [
    "### (h) Projection Matrix\n",
    "\n",
    "A projection matrix $P$ is an $n\\times n$ that performs a projection from $\\mathbb{R}^n$ to a subspace $W$. The columns of $P$ are the basis vectors, that represents the subspace $W$. A square matrix $P$ is a projection matrix iff $P^2=P$. Some important properties are:\n",
    "\n",
    "* A projection matrix P is orthogonal iff P=P^*, where $P^*$ denotes the adjoint matrix of $P$.\n",
    "* A projection matrix is a symmetric matrix iff the vector space projection is orthogonal. "
   ]
  },
  {
   "cell_type": "markdown",
   "metadata": {},
   "source": [
    "### (i) Companion Matrix\n",
    "\n",
    "Given the following polynomial $p(t)=c_{0}+c_{1}t+\\cdots +c_{{n-1}}t^{{n-1}}+t^{n}$ (a monic polynomial). The companion matrix has the form:\n",
    "$$\n",
    "C(p)={\\begin{bmatrix}0&0&\\dots &0&-c_{0}\\\\1&0&\\dots &0&-c_{1}\\\\0&1&\\dots &0&-c_{2}\\\\\\vdots &\\vdots &\\ddots &\\vdots &\\vdots \\\\0&0&\\dots &1&-c_{{n-1}}\\end{bmatrix}}.\n",
    "$$\n",
    "i.e, is a square matrix with the following property for his column vectors $(v_1, v_2, \\ldots, v_n)$:\n",
    "$$\n",
    "C v_i = C^i v_1 = v_{i+1}\n",
    "$$"
   ]
  },
  {
   "cell_type": "markdown",
   "metadata": {},
   "source": [
    "### (k) Defective Matrix\n",
    "\n",
    "A defective matrix, is a square matrix $\\in \\mathbb{R}^n$ that does not have a complete basis of eigenvectors, i.e, it doesn't have $n$ linearly independent eigenvectors. This means that a defective matrix has one or more eigenvalues $\\lambda$ with algebraic multiplicity $m>1$."
   ]
  },
  {
   "cell_type": "markdown",
   "metadata": {},
   "source": [
    "### (l) Toeplitz Matrix\n",
    "A Toeplitz matrix, also known as _diagonal constant matrix_, is a matrix in which each descending diagonal from left to right is a constant value. Any matrix $A_{n \\times n}$ of the form:\n",
    "$$\n",
    "{\\displaystyle A={\\begin{bmatrix}a_{0}&a_{-1}&a_{-2}&\\ldots &\\ldots &a_{-(n-1)}\\\\a_{1}&a_{0}&a_{-1}&\\ddots &&\\vdots \\\\a_{2}&a_{1}&\\ddots &\\ddots &\\ddots &\\vdots \\\\\\vdots &\\ddots &\\ddots &\\ddots &a_{-1}&a_{-2}\\\\\\vdots &&\\ddots &a_{1}&a_{0}&a_{-1}\\\\a_{n-1}&\\ldots &\\ldots &a_{2}&a_{1}&a_{0}\\end{bmatrix}}}\n",
    "$$\n",
    "is a Toeplitz matrix, but it is important to mention that these matrices are not necessarily square.\n",
    "\n",
    "Due to this repetition of values in a Toeplitz matrix $A$, we say that $A$ has $2n-1$ degrees of freedom (instead of the standard $n^2$). Then, a system $A x = b$ could be solved by the _Livingston algorithm_ in $O(n^2)$.\n"
   ]
  },
  {
   "cell_type": "markdown",
   "metadata": {},
   "source": [
    "### (m) Circulant Matrix\n",
    "A circulant matrix is a special kind of Toeplitz matrix where each row vector is shifted one element to the right relative to the preceding row vector, like the matrix below:\n",
    "$$\n",
    "C={\\begin{bmatrix}c_{0}&c_{{n-1}}&\\dots &c_{{2}}&c_{{1}}\\\\c_{{1}}&c_{0}&c_{{n-1}}&&c_{{2}}\\\\\\vdots &c_{{1}}&c_{0}&\\ddots &\\vdots \\\\c_{{n-2}}&&\\ddots &\\ddots &c_{{n-1}}\\\\c_{{n-1}}&c_{{n-2}}&\\dots &c_{{1}}&c_{0}\\\\\\end{bmatrix}}.\n",
    "$$\n",
    "Circulant matrices are important because they are diagonalized by a discrete Fourier transform, and hence linear equations that contain them may be quickly solved using a fast Fourier transform."
   ]
  },
  {
   "cell_type": "markdown",
   "metadata": {},
   "source": [
    "### (n) Hankel Matrix \n",
    "\n",
    "A Hankel matrix is highly related to Toeplitz matrices. We say an square matrix $A$ is Hankel if each ascending skew-diagonal from left to right is constant, i.e, has the form:\n",
    "$$\n",
    "A={\\begin{bmatrix}a_{0}&a_{1}&a_{2}&\\ldots &\\ldots &a_{n-1}\\\\a_{1}&a_{2}&&&&\\vdots \\\\a_{2}&&&&&\\vdots \\\\\\vdots &&&&&a_{2n-4}\\\\\\vdots &&&&a_{2n-4}&a_{2n-3}\\\\a_{n-1}&\\ldots &\\ldots &a_{2n-4}&a_{2n-3}&a_{2n-2}\\end{bmatrix}}\n",
    "$$\n",
    "The general rule is: $A_{i,j}=A_{i+1,j-1}=a_{i+j-2}.\\ $"
   ]
  },
  {
   "cell_type": "markdown",
   "metadata": {},
   "source": [
    "### (o) Hilbert Matrix\n",
    "\n",
    "An square matrix $A$ is said a Hilber matrix, if its entries have the following structure:\n",
    "$$\n",
    "H_{{ij}}={\\frac  {1}{i+j-1}}.\n",
    "$$\n",
    "These matrices are canonical examples of ill-conditioned matrices. For example the following $5\\times 5$ matrix:\n",
    "$$\n",
    "H={\\begin{bmatrix}1&{\\frac  {1}{2}}&{\\frac  {1}{3}}&{\\frac  {1}{4}}&{\\frac  {1}{5}}\\\\[4pt]{\\frac  {1}{2}}&{\\frac  {1}{3}}&{\\frac  {1}{4}}&{\\frac  {1}{5}}&{\\frac  {1}{6}}\\\\[4pt]{\\frac  {1}{3}}&{\\frac  {1}{4}}&{\\frac  {1}{5}}&{\\frac  {1}{6}}&{\\frac  {1}{7}}\\\\[4pt]{\\frac  {1}{4}}&{\\frac  {1}{5}}&{\\frac  {1}{6}}&{\\frac  {1}{7}}&{\\frac  {1}{8}}\\\\[4pt]{\\frac  {1}{5}}&{\\frac  {1}{6}}&{\\frac  {1}{7}}&{\\frac  {1}{8}}&{\\frac  {1}{9}}\\end{bmatrix}}.\n",
    "$$\n",
    "has a condition number of $4.8 \\times 10^{5}$ (with norm-2). Some properties of this matrix:\n",
    "\n",
    "* The Hilbert matrix is symmetric and positive definite.\n",
    "* The Hilbert matrix is an example of Hankel matrix (see definition above).\n",
    "* This matrix appears in the least squares problems, when aproximating arbitrary functions by polynomials."
   ]
  },
  {
   "cell_type": "markdown",
   "metadata": {},
   "source": [
    "### (p) Markov Matrix\n",
    "\n",
    "A Markov matrix, also known as _Stochastic matrix_ and _Probability matrix_, is a matrix used to represent transitions of a Markov Chain. Each of his entries is non negative real number $\\in [0,1]$ representing a probability.\n",
    "\n",
    "There are basically three types of Markov matrices: _right Markov matrix_ (each row sum up to 1), _left Markov matrix_ (each column sum up to 1) and _double Markov matrix_ (each row and column sum up to 1)."
   ]
  },
  {
   "cell_type": "markdown",
   "metadata": {},
   "source": [
    "### (q) Differentiation Matrix\n",
    "\n",
    "This matrix is highly related to finite differences. Given a regularly spaced grid points $[x_1, x_2, \\ldots, x_n]$, and a function $f$ evaluated at this points $[u_1, u_2, \\ldots, u_n]$. Then a differentiation matrix $D$ is the one that estimates the derivatives of $f$ at the given points. For example, if we estimate the first derivative with the second order formula $\\frac{u_{j+1}-u_{j-1}}{2h}$, then the finite difference process can be written in the following matricial form:\n",
    "$$\\begin{pmatrix}\n",
    "w_1 \\\\\n",
    "\\vdots \\\\\n",
    "\\vdots \\\\\n",
    "\\vdots \\\\\n",
    "w_n\n",
    "\\end{pmatrix}\n",
    "=\n",
    "\\begin{pmatrix}\n",
    "0 & \\frac{1}{2} & \\cdots & 0 & \\frac{-1}{2} \\\\\n",
    "\\frac{-1}{2} & 0 & \\cdots & 0 & 0 \\\\\n",
    "\\vdots & \\vdots & \\vdots & \\vdots \\\\\n",
    "\\vdots & \\vdots & \\vdots & 0 & \\frac{1}{2} \\\\\n",
    "\\frac{1}{2} & 0 & \\cdots & \\frac{-1}{2} & 0\n",
    "\\end{pmatrix}\n",
    "\\begin{pmatrix}\n",
    "u_1 \\\\\n",
    "\\vdots \\\\\n",
    "\\vdots \\\\\n",
    "\\vdots \\\\\n",
    "u_n\n",
    "\\end{pmatrix},\n",
    "$$\n",
    "(we have suppose periodic conditions). Some properties: This matrix is _Toeplitz_, having constant entries along diagonals, and it is also _circulant_. Also it is a very sparse matrix."
   ]
  },
  {
   "cell_type": "markdown",
   "metadata": {},
   "source": [
    "### (r) Spectral Differentiation Matrix\n",
    "\n",
    "If we use higher order differentiation formulas to approximate the derivative by finite differences, then the differentiation matrix (as shown above) approximates better the derivatives, but also it begins to turn a dense matrix. When the order of the approximation goes to $\\infty$, what we get is an _spectral differentiation matrix_."
   ]
  },
  {
   "cell_type": "markdown",
   "metadata": {},
   "source": [
    "<div id='2' />\n",
    "## Question II"
   ]
  },
  {
   "cell_type": "markdown",
   "metadata": {},
   "source": [
    "### a)"
   ]
  },
  {
   "cell_type": "code",
   "execution_count": 24,
   "metadata": {
    "collapsed": false
   },
   "outputs": [],
   "source": [
    "@numba.jit('float32[:,:](int32,int32)')\n",
    "def build_hilbert(m,n):\n",
    "    H = np.zeros((m,n))\n",
    "    for i in range(1,m+1):\n",
    "        for j in range(1,n+1):\n",
    "            H[i-1,j-1] = 1./(i+j-1)\n",
    "    return H"
   ]
  },
  {
   "cell_type": "code",
   "execution_count": 25,
   "metadata": {
    "collapsed": false
   },
   "outputs": [
    {
     "data": {
      "text/plain": [
       "array([[ 1.        ,  0.5       ,  0.33333333,  0.25      ,  0.2       ],\n",
       "       [ 0.5       ,  0.33333333,  0.25      ,  0.2       ,  0.16666667],\n",
       "       [ 0.33333333,  0.25      ,  0.2       ,  0.16666667,  0.14285714],\n",
       "       [ 0.25      ,  0.2       ,  0.16666667,  0.14285714,  0.125     ],\n",
       "       [ 0.2       ,  0.16666667,  0.14285714,  0.125     ,  0.11111111]])"
      ]
     },
     "execution_count": 25,
     "metadata": {},
     "output_type": "execute_result"
    }
   ],
   "source": [
    "build_hilbert(5,5)"
   ]
  },
  {
   "cell_type": "code",
   "execution_count": 46,
   "metadata": {
    "collapsed": false
   },
   "outputs": [],
   "source": [
    "err = []\n",
    "for i in range(3,21):\n",
    "    H = build_hilbert(i,i)\n",
    "    x = np.ones(i, dtype=float)\n",
    "    b = np.dot(H,x)\n",
    "    x_approx = np.linalg.solve(H,b)\n",
    "    err.append(np.linalg.norm(x-x_approx, ord=2)/np.linalg.norm(x, ord=2))\n",
    "err = np.asarray(err)"
   ]
  },
  {
   "cell_type": "code",
   "execution_count": 47,
   "metadata": {
    "collapsed": false
   },
   "outputs": [
    {
     "data": {
      "image/png": "[encoded data removed]",
      "text/plain": [
       "<matplotlib.figure.Figure at 0x7f36f92c73d0>"
      ]
     },
     "metadata": {},
     "output_type": "display_data"
    }
   ],
   "source": [
    "plt.figure(figsize=(7,6))\n",
    "plt.semilogy(np.arange(3,21), err, '*b')\n",
    "plt.title('Relative Error (log) v/s Size of Hilbert Matrix')\n",
    "plt.show()"
   ]
  },
  {
   "cell_type": "markdown",
   "metadata": {},
   "source": [
    "### b)\n",
    "\n",
    "A relation between $||x||$ and $||\\widehat{x}||$ can be stated as:\n",
    "\n",
    "$$ \\underbrace{ \\frac{||x-\\widehat{x}||}{||x||} }_{\\text{Forward relative error}} \\leq \\kappa(A) \\underbrace{ \\frac{||b-A\\widehat{x}||}{||b||} }_{\\text{Backward relative error}} $$\n",
    "\n",
    "This says us that there exist a component of the forward error, that is _beyond of our control_, since a huge condition number of $A$ will give a huge upper bound."
   ]
  },
  {
   "cell_type": "code",
   "execution_count": 52,
   "metadata": {
    "collapsed": false
   },
   "outputs": [
    {
     "name": "stdout",
     "output_type": "stream",
     "text": [
      "Condition number of H(3x3): 524.056777586\n",
      "Condition number of H(4x4): 15513.7387389\n",
      "Condition number of H(5x5): 476607.250242\n",
      "Condition number of H(6x6): 14951058.6409\n",
      "Condition number of H(7x7): 475367354.946\n",
      "Condition number of H(8x8): 15257574754.9\n",
      "Condition number of H(9x9): 4.9315286753e+11\n",
      "Condition number of H(10x10): 1.60246795566e+13\n",
      "Condition number of H(11x11): 5.2197577866e+14\n",
      "Condition number of H(12x12): 1.64317378897e+16\n",
      "Condition number of H(13x13): 1.57757888933e+18\n",
      "Condition number of H(14x14): 5.82770617424e+17\n",
      "Condition number of H(15x15): 7.11217908457e+17\n",
      "Condition number of H(16x16): 3.07410923163e+17\n",
      "Condition number of H(17x17): 6.94337669285e+17\n",
      "Condition number of H(18x18): 1.15149397304e+18\n",
      "Condition number of H(19x19): 4.70707491819e+17\n",
      "Condition number of H(20x20): 2.69378744008e+18\n"
     ]
    }
   ],
   "source": [
    "rhs = []\n",
    "for i in range(3,21):\n",
    "    H = build_hilbert(i,i)\n",
    "    x = np.ones(i, dtype=float)\n",
    "    b = np.dot(H,x)\n",
    "    x_approx = np.linalg.solve(H,b)\n",
    "    kappa = np.linalg.cond(H, p=2)\n",
    "    rhs.append(kappa*np.linalg.norm(b-np.dot(H,x_approx), ord=2)/np.linalg.norm(b, ord=2))\n",
    "    print('Condition number of H({0}x{0}): {1}'.format(i, kappa))\n",
    "rhs = np.asarray(rhs)"
   ]
  },
  {
   "cell_type": "code",
   "execution_count": 65,
   "metadata": {
    "collapsed": false
   },
   "outputs": [
    {
     "data": {
      "image/png": "[encoded data removed]",
      "text/plain": [
       "<matplotlib.figure.Figure at 0x7f36f92c72d0>"
      ]
     },
     "metadata": {},
     "output_type": "display_data"
    }
   ],
   "source": [
    "plt.figure(figsize=(7,6))\n",
    "plt.semilogy(np.arange(3,21), err, '*b')\n",
    "plt.semilogy(np.arange(3,21), rhs, 'or')\n",
    "plt.title('RHS (log) v/s Size of Hilbert Matrix')\n",
    "plt.show()"
   ]
  },
  {
   "cell_type": "markdown",
   "metadata": {},
   "source": [
    "As can be seen in the plot above. the inequality holds. The right hand side is always greater than the backward relative error (left hand side)."
   ]
  },
  {
   "cell_type": "markdown",
   "metadata": {},
   "source": [
    "### c) \n",
    "\n"
   ]
  },
  {
   "cell_type": "markdown",
   "metadata": {},
   "source": [
    "The solution is to use preconditioners. If we want to solve the system $Ax=b$, an option is to multiply by both side by a matrix $P^{-1}A x = P^{-1}b \\leftrightarrow \\tilde{A}x = \\tilde{b}$, so that the condition number satisfies $\\text{cond}(\\tilde{A}) \\leq \\text{cond}(A)$. This can be achieve for example, with an incomplete LU decomposition (That approximates the inverse of A)."
   ]
  },
  {
   "cell_type": "code",
   "execution_count": null,
   "metadata": {
    "collapsed": true
   },
   "outputs": [],
   "source": [
    "A = np.array([[ 0.4445,  0.4444, -0.2222],\n",
    "              [ 0.4444,  0.4445, -0.2222],\n",
    "              [-0.2222, -0.2222,  0.1112]])\n",
    "\n",
    "b = np.array([[ 0.6667], \n",
    "              [ 0.6667], \n",
    "              [-0.3332]])\n",
    "\n",
    "M2 = spla.spilu(A)\n",
    "M_x = lambda x: M2.solve(x)\n",
    "M = spla.LinearOperator((3,3), M_x)\n",
    "\n",
    "x = spla.gmres(A,b,M=M)\n",
    "\n",
    "print x"
   ]
  },
  {
   "cell_type": "markdown",
   "metadata": {},
   "source": [
    "### References for question II\n",
    "\n",
    "[1] Numerical Linear Algebra, Trefethen. Chapter III: Conditioning and Stability."
   ]
  },
  {
   "cell_type": "markdown",
   "metadata": {},
   "source": [
    "### <div id='3' />\n",
    "## Question III"
   ]
  },
  {
   "cell_type": "markdown",
   "metadata": {},
   "source": [
    "### a)\n",
    "The implementation below ```naive_root_finder``` finds the roots of the quadratic equation with the traditional formula: $\\displaystyle x = \\frac{-b \\mp \\sqrt{b^2-4ac}}{2a}$"
   ]
  },
  {
   "cell_type": "code",
   "execution_count": 230,
   "metadata": {
    "collapsed": true
   },
   "outputs": [],
   "source": [
    "def P(x):\n",
    "    return (2.*x**2)+(1e9*x)+(1.)"
   ]
  },
  {
   "cell_type": "code",
   "execution_count": 231,
   "metadata": {
    "collapsed": true
   },
   "outputs": [],
   "source": [
    "def naive_root_finder(a, b, c):\n",
    "    disc = b**2-4*a*c\n",
    "    return ((-b+disc**0.5)/(2.*a), (-b-disc**0.5)/(2.*a))"
   ]
  },
  {
   "cell_type": "markdown",
   "metadata": {},
   "source": [
    "### b) \n",
    "The problem appears when we try to evaluate numerically the root $\\displaystyle x = \\frac{-b + \\sqrt{b^2-4ac}}{2a}$. Since $b^2 >> 4ac \\sim c$, when the computer evaluates $b^2-4ac$ it returns $b^2$. This is due to the problem of loss of significance, i.e, when adding both numbers on floating point representation, none of the the bits of $b^2$ are modified by $-4ac$. As result we get that $\\displaystyle x = \\frac{-b + \\sqrt{b^2-4ac}}{2a} = \\frac{-b+b}{2a}=0$."
   ]
  },
  {
   "cell_type": "code",
   "execution_count": 232,
   "metadata": {
    "collapsed": false
   },
   "outputs": [
    {
     "name": "stdout",
     "output_type": "stream",
     "text": [
      "(0.0, -500000000.0)\n",
      "1.0\n",
      "1.0\n"
     ]
    }
   ],
   "source": [
    "r0 = naive_root_finder(2.,1e9,1.)\n",
    "print(r0)\n",
    "print(P(r0[0]))\n",
    "print(P(r0[1]))"
   ]
  },
  {
   "cell_type": "markdown",
   "metadata": {},
   "source": [
    "### c)\n",
    "\n",
    "The solution is to express such problematic root in a more clever way:\n",
    "\n",
    "$$ \\frac{-b+\\sqrt{b^2-4ac}}{2a} \\cdot \\frac{-b-\\sqrt{b^2-4ac}}{-b-\\sqrt{b^2-4ac}} = \\frac{b^2-(b^2-4ac)}{2a(-b-\\sqrt{b^2-4ac})} = \\frac{2c}{-b-\\sqrt{b^2-4ac}}$$\n",
    "\n",
    "This way, when the problem of loss of significance appears, the result will be $-\\frac{c}{b} \\neq 0$."
   ]
  },
  {
   "cell_type": "code",
   "execution_count": 233,
   "metadata": {
    "collapsed": true
   },
   "outputs": [],
   "source": [
    "def clever_root_finder(a, b, c):\n",
    "    disc = b**2-4*a*c\n",
    "    return (2*c/(-b-sqrt(disc)), (-b-sqrt(disc))/(2.*a))"
   ]
  },
  {
   "cell_type": "markdown",
   "metadata": {},
   "source": [
    "### d) \n",
    "The new root are shown below. Note that when we evaluate the second root, doesn't return $0$. This is due to the loss of significance of the evaluation of the discriminant."
   ]
  },
  {
   "cell_type": "code",
   "execution_count": 234,
   "metadata": {
    "collapsed": false
   },
   "outputs": [
    {
     "name": "stdout",
     "output_type": "stream",
     "text": [
      "(-1e-09, -500000000.0)\n",
      "0.0\n",
      "1.0\n"
     ]
    }
   ],
   "source": [
    "r1 = clever_root_finder(2.,1e9,1.)\n",
    "print(r1)\n",
    "print(P(r1[0]))\n",
    "print(P(r1[1]))"
   ]
  },
  {
   "cell_type": "markdown",
   "metadata": {},
   "source": [
    "### e)\n",
    "\n",
    "The approach here, is to compute the Taylor expansion of the well-known solution  $x = \\frac{-b \\mp \\sqrt{b^2-4ac}}{2a}$ with known $a,c$. Then the roots can be expressed as functions of $b$:\n",
    "$$\n",
    "r_1(b) = \\frac{1}{4} \\left(-b+\\sqrt{b^2-8}\\right)  \\ \\ \\ \\ \\ \\ r_2(b) = \\frac{1}{4} \\left(-b-\\sqrt{b^2-8}\\right)\n",
    "$$\n",
    "If we divide by $b$ both expressions (assuming $b \\neq 0$), we get:\n",
    "$$\n",
    "\\tilde{r}_1(b) = \\frac{1}{4} \\left(-1+\\sqrt{1-\\frac{8}{b^2}}\\right) \\ \\ \\ \\ \\ \\ \\ \\tilde{r}_2(b) = \\frac{1}{4} \\left(-1-\\sqrt{1-\\frac{8}{b^2}}\\right)\n",
    "$$\n",
    "by taking the 5th order Taylor expansion of both expressions, centered at $b=10^9$ results:\n",
    "\\begin{align}\n",
    "r_1(b) &\\approx \\tilde{r}_1(b) \\cdot b \\approx -2\\cdot 10^{-17}b + 7\\cdot 10^{-26}b^2 - 1.05 \\cdot 10^{-34} b^3 + 8.4 \\cdot 10^{-44}b^4 - 3.5 \\cdot 10^{-53}b^5 + 6 \\cdot 10^{-63} b^6 \\\\\n",
    "r_2(b) &\\approx \\tilde{r}_2(b) \\cdot b \\approx -0.5 b - 7 \\cdot 10^{-26}b^2 + 1.05 \\cdot 10^{-34}b^3 - 8.4 \\cdot 10^{-44} b^4 + 3.5 \\cdot 10^{-53} b^5 - 6 \\cdot 10^{-63} b^6\n",
    "\\end{align}\n",
    "here we multiply the Taylor expansions of $\\tilde{r}_1(b)$ and $\\tilde{r}_2(b)$ by $b$, since we previously we divide them by $b$. (The full derivation can be seen in the attached file: `quadratic-taylor.nb`).\n",
    "\n",
    "Evaluating the 5th order Taylor expansions at $b=10^9$ we get the roots:\n",
    "$$\n",
    "r_1 = -1.98523 \\cdot 10^{-23} \\ \\ \\ \\ \\ r_2 = -5\\cdot 10^8\n",
    "$$\n",
    "which are very similar to the ones found with `clever_root_finder()`. Higher order expansions, give more accurate solutions for $r_1$ (closer to $0$)."
   ]
  },
  {
   "cell_type": "markdown",
   "metadata": {},
   "source": [
    "### References for question III\n",
    "[1] Numerical Analysis, Timothy Sauer. Chapter 1: Solving Equations. "
   ]
  },
  {
   "cell_type": "markdown",
   "metadata": {},
   "source": [
    "<div id='4' />\n",
    "## Question IV"
   ]
  },
  {
   "cell_type": "markdown",
   "metadata": {},
   "source": [
    "### Question 1.\n",
    "\n",
    "First we have to recall that FPI is locally convergent, i.e, the method converges to $r$ for initial guesses sufficiently close to $r$. In other words, there must exist a neighborhood $(r-\\epsilon, r+\\epsilon)$ such that the _fixed point function_ satisfies $g'(x)<1$.\n",
    "\n",
    "Now suppose that there exist two fixed points $r_1,r_2$ ($r_1<r_2$ without loss of generality) on the closed interval $[a,b]$. We can take a neighborhood around $r_1$ that contains $r_2$: $\\Omega = (r_1-\\epsilon_1, r_2+\\epsilon_2) \\ \\text{with} \\ \\epsilon_1,\\epsilon_2 > 0$. According to _theorem 1.6 Numerical Analysis - Timothy Sauer_, given that $|g'(x)|<1 \\ \\forall \\ x \\in \\Omega$, and in particular $|g'(r_1)|<1$, any initial guess $x_0 \\in \\Omega$ will converge to $r_1$. However, with the same argument, since $|g'(r_2)|<1$ and $|g'(x)|<1 \\ \\forall \\ x \\in \\Omega$, any initial guess will on $\\Omega$ will converge to $r_2$. That is a contradiction. Then, can not exist two fixed points on a closed interval $\\blacksquare$.\n"
   ]
  },
  {
   "cell_type": "markdown",
   "metadata": {},
   "source": [
    "### Question 2.\n",
    "\n",
    "Three different possibilities are shown next:\n",
    "\n",
    "1. $\\ \\ x = g_1(x) = f(x)+x$\n",
    "2. $\\ \\ x = g_2(x) = \\frac{x(f(x)+\\alpha)}{\\alpha} \\ \\ \\ (/+\\alpha \\ / \\cdot x \\ / \\cdot 1/\\alpha)$\n",
    "3. $\\ \\ x = g_3(x) = x e^{f(x)} \\ \\ \\ \\ \\ \\ \\ (/e^{(\\cdot)} \\ /\\cdot x)$ \n",
    "\n",
    "The necessary restrictions to reach $r$ are: $|g_i'(r)|<1$ and a starting guess $x_0$ close enough to $r$."
   ]
  },
  {
   "cell_type": "markdown",
   "metadata": {
    "collapsed": true
   },
   "source": [
    "### Question 3.\n",
    "\n",
    "Two equivalent expressions for $x^3+x=1$ can be written:\n",
    "\n",
    "$$ x^3+x=1\\ \\  /\\cdot x \\leftrightarrow x = g_1(x) = x^4+x^2 \\ \\ \\text{with} \\ \\ g_1'(x)=4x^3+2x \\  \\big|_{x=1} = 6  $$\n",
    "\n",
    "$$ x^3+x=1 \\leftrightarrow \\ x(x^2+1)=1 \\ \\leftrightarrow \\ x=g_2(x)=\\frac{1}{x^2+1}  \\ \\ \\text{with} \\ \\ g_2'(x)=\\frac{-2x}{(1+x^2)^2} \\ \\bigg|_{x=1} = -\\frac{1}{2}$$\n",
    "\n",
    "clearly the first will fixed-point iteration will diverge, while the second will converge."
   ]
  },
  {
   "cell_type": "markdown",
   "metadata": {},
   "source": [
    "### Question 4.\n",
    "\n",
    "The second order Taylor expansion of $f$ centered at $x_i$ (solution at step $i$) is:\n",
    "\n",
    "$$ f(x) = f(x_i) + f'(x_i)(x-x_i)+\\frac{f''(c_i)}{2}(x-x_i)^2$$\n",
    "\n",
    "where $c_i$ is between $x_i,x$, acording to Taylor. If we evaluate the last expression on the root $r$, we have:\n",
    "\n",
    "\\begin{align}\n",
    " 0 &= f(x_i) + f'(x_i)(r-x_i)+\\frac{f''(c_i)}{2}(r-x_i)^2 \\ \\ \\ / \\cdot 1/f'(x_i) \\\\\n",
    " 0 &= \\frac{f(x_i)}{f'(x_i)} + (r-x_i)+\\frac{f''(c_i)}{2f'(x_i)}(r-x_i)^2 \\\\\n",
    " \\underbrace{x_i - \\frac{f(x_i)}{f'(x_i)}}_{x_{i+1}} - r &= \\frac{(r-x_i)^2}{2}\\frac{f''(c_i)}{f'(x_i)}  \\ \\ \\ / \\ ||\\cdot|| \\\\\n",
    " e_{i+1} &= e_{i}^2 \\bigg|\\frac{f''(c_i)}{2f'(x_i)} \\bigg|\n",
    "\\end{align}\n",
    "\n",
    "Now since $c_i$ lies between $r$ and $x_i$, and $x_i \\rightarrow r$ as $i\\rightarrow \\infty$, $c_i$ should converge to $r$:\n",
    "\n",
    "$$ \\lim_{i \\rightarrow \\infty} \\frac{e_{i+1}}{e_i^2} = \\bigg|\\frac{f''(r)}{2f'(r)} \\bigg| \\ \\ \\ \\blacksquare $$"
   ]
  },
  {
   "cell_type": "markdown",
   "metadata": {},
   "source": [
    "### Question 5.\n",
    "\n",
    "Quadratically convergence fails for roots with multiplicity greater than $1$. This can be seen (not a formal proof) with monomial functions $f(x)=x^m$ for which Newton methods gives:\n",
    "$$\n",
    "x_{i+1} = x_i - \\frac{f(x_i)}{f'(x_i)} = x_i - \\frac{x_i^m}{m x_i^{m-1}} = \\frac{m-1}{m} x_i\n",
    "$$\n",
    "linear convergence. The way to fix it is the __Modified Newton's Method__ as stated in _Theorem 1.13 - Numerical Analysis - Timothy Sauer_:\n",
    "$$\n",
    "x_{i+1} = x_i - \\frac{m\\ f(x_i)}{f'(x_i)}\n",
    "$$\n",
    "where $f$ is $(m+1)-$times continuously differentiable, with a root $r$ of multiplicity $m>1$. Let's see how it work on monomial functions (again, this is not a formal proof):\n",
    "$$\n",
    "x_{i+1} = x_i - \\frac{m\\ f(x_i)}{f'(x_i)} = x_i - \\frac{m \\ x_i^m}{m \\ x_i^{m-1}} = x_i - x_i = 0\n",
    "$$\n",
    "It converges in $1$ iteration!."
   ]
  },
  {
   "cell_type": "markdown",
   "metadata": {},
   "source": [
    "### References for question IV\n",
    "[1] Numerical Analysis, Timothy Sauer. Chapter 1: Solving Equations. "
   ]
  },
  {
   "cell_type": "markdown",
   "metadata": {},
   "source": [
    "<div id='5' />\n",
    "## Question V"
   ]
  },
  {
   "cell_type": "markdown",
   "metadata": {},
   "source": [
    "### a)\n",
    "\n",
    "The BVP will be solved, by using the shooting method. First, the second order ODE is splitted into two first order equations:\n",
    "\n",
    "\\begin{align}\n",
    "y_1' &= y_2 \\ \\ \\ \\ \\ \\ \\ \\ \\ \\ \\ \\ \\ \\ \\ \\ \\ \\ \\ \\ \\ \\ \\ \\ \\ \\ \\ \\ \\  y_1(0)=0 \\\\ \n",
    "y_2' &= - \\frac{(y_1 +(1+\\epsilon)y_2)}{\\epsilon} \\ \\ \\ \\ \\ y_2(0)=\\gamma\n",
    "\\end{align}\n",
    "subject to $y_2(1)=1$."
   ]
  },
  {
   "cell_type": "code",
   "execution_count": 121,
   "metadata": {
    "collapsed": true
   },
   "outputs": [],
   "source": [
    "def odefunc(Y, epsilon=0.1):\n",
    "    y1 = Y[0]\n",
    "    y2 = Y[1]\n",
    "    return np.array([y2, -(y1+(1+epsilon)*y2)/epsilon])\n",
    "\n",
    "def euler_int(odefunc, dt, gamma, t0=0., tf=1.):\n",
    "    n_iter = int((tf-t0)/dt)\n",
    "    Y = np.empty((n_iter+1,2))\n",
    "    Y[0,0] = 0.\n",
    "    Y[0,1] = gamma\n",
    "    for i in range(n_iter):\n",
    "        Y[i+1] = odefunc(Y[i])*dt + Y[i]\n",
    "    return Y[:,0]\n",
    "    \n",
    "def F(gamma):\n",
    "    sol = euler_int(odefunc, 0.01, gamma)\n",
    "    return sol[-1]-1."
   ]
  },
  {
   "cell_type": "code",
   "execution_count": 125,
   "metadata": {
    "collapsed": false
   },
   "outputs": [
    {
     "name": "stdout",
     "output_type": "stream",
     "text": [
      "Best gamma= 24.5897756125\n"
     ]
    }
   ],
   "source": [
    "\"\"\"\n",
    "Solving F by Brent's method\n",
    "\"\"\"\n",
    "bgamma = sp.optimize.brentq(F, 20., 30.)\n",
    "print(\"Best gamma= {0}\".format(bgamma))"
   ]
  },
  {
   "cell_type": "code",
   "execution_count": 135,
   "metadata": {
    "collapsed": false
   },
   "outputs": [],
   "source": [
    "dx = 0.05\n",
    "ode_sol = euler_int(odefunc, dx, bgamma)\n",
    "x = np.linspace(0., 1., int(1./dx)+1)"
   ]
  },
  {
   "cell_type": "markdown",
   "metadata": {},
   "source": [
    "### b)\n",
    "\n",
    "The exact solution was obtained with `DSolve[]` `Mathematica`'s function, an is shown below."
   ]
  },
  {
   "cell_type": "code",
   "execution_count": 131,
   "metadata": {
    "collapsed": true
   },
   "outputs": [],
   "source": [
    "def y(x, epsilon=0.1):\n",
    "    return (np.exp(1.+1/epsilon)/(np.exp(1./epsilon)-np.exp(1))) * (np.exp(-x)-np.exp(-x/epsilon))"
   ]
  },
  {
   "cell_type": "code",
   "execution_count": 134,
   "metadata": {
    "collapsed": false
   },
   "outputs": [
    {
     "data": {
      "image/png": "[encoded data removed]",
      "text/plain": [
       "<matplotlib.figure.Figure at 0x7f2142e2a2d0>"
      ]
     },
     "metadata": {},
     "output_type": "display_data"
    }
   ],
   "source": [
    "plt.figure(figsize=(8,7))\n",
    "plt.plot(x, y(x, epsilon=1e-1), 'bo-', label='exact')\n",
    "plt.plot(x, ode_sol, 'ro-', label='shooting')\n",
    "plt.legend()\n",
    "plt.show()"
   ]
  },
  {
   "cell_type": "markdown",
   "metadata": {},
   "source": [
    "### c)\n",
    "\n",
    "Since the numerical solution was solved inside the interval $[0,1]$  (with corresponding boundary conditions on extremes), then the solution is valid just in this interval, and no extrapolation could be done."
   ]
  },
  {
   "cell_type": "markdown",
   "metadata": {},
   "source": [
    "### d)\n",
    "By setting lower $dx$ steps in the numerical integration step, it is possible to get more accurate solutions. However a better approach to get more accuracy, is the _finite differences method_, which gives us better theoretical error analysis.  "
   ]
  },
  {
   "cell_type": "markdown",
   "metadata": {},
   "source": [
    "### e) \n",
    "As $t\\rightarrow \\infty$, the problem becomes:\n",
    "$$\n",
    "y'(x)=-y(x) \\ \\ \\ \\ y(0)=0 \\ \\ \\text{and} \\ \\ y(1)=1.\n",
    "$$\n",
    "which corresponds to a decaying exponential (one of the boundary conditions must be relaxed in order to get consistency)."
   ]
  },
  {
   "cell_type": "markdown",
   "metadata": {},
   "source": [
    "### References for question V\n",
    "[1] Numerical Analysis, Timothy Sauer. Chapter 6: Ordinary Differential Equations. "
   ]
  },
  {
   "cell_type": "markdown",
   "metadata": {},
   "source": [
    "<div id='6' />\n",
    "## Question VI\n",
    "\n",
    "We want to find the SVD decomposition of $X(I - v_1 v_1^*) = U \\Sigma V^* (I - v_1 v_1^*)$. To achieve that, we write the SVD as the equivalent sum of rank-1 matrices:\n",
    "\\begin{align}\n",
    "X(I - v_1 v_1^*) = U \\Sigma V^* (I - v_1 v_1^*) &= U \\Sigma V^* - \\left(\\sigma_1 u_1 v_1^* + \\sigma_2 u_2 v_2^* + \\cdots + \\sigma_n u_n v_n^*\\right)v_1 v_1^* \\\\\n",
    "&= U \\Sigma V^* - \\left(\\sigma_1 u_1 \\underbrace{v_1^*v_1}_{=1} v_1^* + \\sigma_2 u_2 \\underbrace{v_2^* v_1}_{=0} v_1^* + \\cdots + \\sigma_n u_n \\underbrace{v_n^* v_1}_{=0} v_1^*\\right) \\\\\n",
    "&= U \\Sigma V^* - \\sigma_1 u_1 v_1^* \\\\\n",
    "&= \\sigma_2 u_2 v_2^* + \\cdots + \\sigma_n u_n v_n^*\n",
    "\\end{align}\n",
    "which is equivalent to setting $\\sigma_1=0$ on the original SVD decomposition (and reordering the $u$ and $v$ vectors, according to the magnitude of $\\sigma$)."
   ]
  },
  {
   "cell_type": "markdown",
   "metadata": {},
   "source": [
    "### References for question VI\n",
    "[1] Numerical Linear Algebra, Threfethen. Chapter I: Fundamentals."
   ]
  },
  {
   "cell_type": "markdown",
   "metadata": {},
   "source": [
    "<div id='7' />\n",
    "## Question VII\n",
    "\n",
    "We want to solve the problem:\n",
    "\\begin{align}\n",
    "\\text{maximize}_{w \\in \\mathbb{R}^n} & \\ ||X w||_2^2 \\\\\n",
    "\\text{subject to} & \\ ||w||_2=1\n",
    "\\end{align}\n",
    "For that, we will consider the _complete_ SVD decomposition $X = U \\Sigma V^*$, and note that:\n",
    "$$\n",
    "||Xw||_2 = ||U \\Sigma V^* w ||_2 = ||\\Sigma V^* w||_2 \\leq ||\\Sigma||_2 \\underbrace{||V^* w||}_{=||w||=1} = \\sigma_{\\text{max}}(\\Sigma) = \\sigma_1\n",
    "$$\n",
    "(here we make use of properties of unitary matrices). Since the obtained bound can be reached by setting $w=v_1$:\n",
    "$$\n",
    "||Xv_1||_2 = ||U \\Sigma V^* v_1||_2 = || \\Sigma V^* v_1 ||_2  = || \\Sigma \\ [1 \\ 0 \\ \\cdots \\ 0]^T ||_2 = ||[\\sigma_1 \\ 0 \\ \\cdots \\ 0]^T ||_2 = \\sigma_1\n",
    "$$\n",
    "we conclude that the maximization is obtained for $w=v_1$, with maximum $\\sigma_1^2$."
   ]
  },
  {
   "cell_type": "markdown",
   "metadata": {},
   "source": [
    "### References for question VII\n",
    "[1] Numerical Linear Algebra, Threfethen. Chapter I: Fundamentals."
   ]
  },
  {
   "cell_type": "markdown",
   "metadata": {},
   "source": [
    "<div id='8' />\n",
    "## Question VIII\n",
    "\n",
    "Now, we want to solve:\n",
    "\\begin{align}\n",
    "\\text{maximize}_{w \\in \\mathbb{R}^n} & \\ ||X(I-v_1 v_1^*) w||_2^2 \\\\\n",
    "\\text{subject to} & \\ ||w||_2=1\n",
    "\\end{align}\n",
    "As we saw in _Question VI_, the SVD of $X(I-v_1 v_1^*) = \\tilde{U} \\tilde{\\Sigma} \\tilde{V}^* = U \\tilde{\\Sigma} V^*$, where the only difference is that in $\\tilde{\\Sigma}$ we have $\\sigma_1 = 0$.\n",
    "\n",
    "Following the same derivation as in _Question VII_, we note that:\n",
    "$$\n",
    "|X(I-v_1 v_1^*) w||_2 \\leq \\sigma_{\\text{max}}(\\tilde{\\Sigma}) = \\sigma_2\n",
    "$$\n",
    "and that bound is reached when $w=v_2$:\n",
    "$$\n",
    "||X(I-v_1 v_1^*) v_2||_2 = ||U \\tilde{\\Sigma} V^* v_2||_2 = || \\tilde{\\Sigma} V^* v_2 ||_2  = || \\tilde{\\Sigma} \\ [1 \\ 0  \\ \\cdots \\ 0]^T ||_2 = ||[\\sigma_2  \\ 0 \\ \\cdots \\ 0]^T ||_2 = \\sigma_2\n",
    "$$\n",
    "we conclude that the maximization is obtained for $w=v_2$, with maximum $\\sigma_2^2$."
   ]
  },
  {
   "cell_type": "markdown",
   "metadata": {},
   "source": [
    "### References for question VIII\n",
    "[1] Numerical Linear Algebra, Threfethen. Chapter I: Fundamentals."
   ]
  },
  {
   "cell_type": "markdown",
   "metadata": {},
   "source": [
    "<div id='9' />\n",
    "## Question IX\n",
    "\n",
    "First thing to note is the support of each function: $\\text{supp}(\\widetilde{H}_a)=[-0.5a,0.5a]$ and $\\text{supp}(\\widetilde{H}_b)=[-0.5b,0.5b]$. Then, the convolution of both is:\n",
    "\n",
    "\\begin{align}\n",
    "F(x) &= \\int_{-\\infty}^{\\infty} \\widetilde{H}_a(y)\\widetilde{H}_b(x-y) dy \\\\\n",
    "     &= \\frac{1}{ab} \\int_{-0.5a}^{0.5a} H\\left(\\frac{x-y}{b}\\right) dy \\\\\n",
    "\\end{align}\n",
    "Now we have to analyze five cases. For simplicity we will suppose that $a\\geq b$:\n",
    "1. Without overlap (on the left): $x +0.5b < -0.5a \\  \\Leftrightarrow \\ x < -0.5(a+b)$.\n",
    "2. Overlap on the left: $ x + 0.5 b \\geq -0.5 a \\wedge x - 0.5b < -0.5 a \\ \\Leftrightarrow \\ -0.5(a+b)\\leq x < 0.5(b-a)$.\n",
    "3. Completely contained: $ x + 0.5 b < 0.5 a \\wedge x - 0.5b \\geq -0.5 a \\ \\Leftrightarrow \\ 0.5(b-a)\\leq x < 0.5(a-b)$.\n",
    "4. Overlap on the right: $ x + 0.5 b \\geq 0.5 a \\wedge x - 0.5b < 0.5 a \\ \\Leftrightarrow \\ 0.5(a-b)\\leq x < 0.5(a+b)$.\n",
    "5. Without overlap (on the right): $x - 0.5 b \\geq 0.5 a \\leftrightarrow x \\geq 0.5(a+b)$.\n",
    "\n",
    "Clearly when there is no overlap, then the convolution is $0$. In the completely contained case, the integral (in the convolution) is just the area of the rectangle of sides $b$ and $1$, so:\n",
    "$$\n",
    "F(x) = \\frac{1}{ab} \\int_{-0.5b}^{0.5b} dy = \\frac{1}{ab} b  = \\frac{1}{a}.\n",
    "$$\n",
    "For the _overlap on the left case_ the convolution will give:\n",
    "$$\n",
    "F(x) = \\frac{1}{ab} \\int_{-0.5a}^{x+0.5b} dy = \\frac{1}{ab}\\left(x+0.5(b-a) \\right)\n",
    "$$\n",
    "And for the _overlap on the right case_ the convolution will give:\n",
    "$$\n",
    "F(x) = \\frac{1}{ab} \\int_{x-0.5b}^{0.5a} dy = \\frac{1}{ab}\\left(0.5(a+b)-x \\right)\n",
    "$$\n",
    "\n",
    "Summarizing the results:\n",
    "$$\n",
    "F(x) =\n",
    "\\begin{cases} \n",
    "      0 & x<-0.5(a+b) \\\\\n",
    "      \\frac{1}{ab}\\left(x+0.5(b-a) \\right) & -0.5(a+b)\\leq x < 0.5(b-a) \\\\\n",
    "      \\frac{1}{a} & 0.5(b-a)\\leq x < 0.5(a-b) \\\\\n",
    "      \\frac{1}{ab}\\left(0.5(a+b)-x \\right) & 0.5(a-b)\\leq x < 0.5(a+b) \\\\\n",
    "      0 & x>0.5(a+b)\n",
    "\\end{cases}\n",
    "$$\n",
    "The case $b>a$ can be derived in the same way."
   ]
  },
  {
   "cell_type": "markdown",
   "metadata": {},
   "source": [
    "<div id='10' />\n",
    "## Question X\n",
    "\n",
    "The following PDE will be solved, by using the Fourier Transform:\n",
    "\\begin{align}\n",
    "u_t - k u_{xx} &= 0 \\\\\n",
    "u(x,0) &= f(x)\n",
    "\\end{align}\n",
    "for $x \\in \\mathbb{R}$ and $t>0$. Some known properties of the FT are used:\n",
    "* (1) $\\hat{u_t}(\\omega,t) = \\frac{\\partial}{\\partial t}\\hat{u}(\\omega,t)$\n",
    "* (2) $\\hat{u_{xx}}(\\omega,t) = (i\\omega)^2 \\hat{u}(\\omega,t) = -\\omega^2 \\hat{u}(\\omega,t)$\n",
    "* (3) $\\widehat{f(x) \\star g(x)} = \\hat{f}(\\omega) \\cdot \\hat{g}(\\omega) \\ $   (FT maps convolutions to products).\n",
    "\n",
    "By applying the FT to both sides of the heat equation, we get:\n",
    "$$\n",
    "\\frac{\\partial}{\\partial t}\\hat{u}(\\omega,t)+k \\omega^2 \\hat{u}(\\omega,t) = 0 \\ \\ \\ \\ \\text{and} \\ \\ \\ \\ \\hat{u}(\\omega,0)=\\hat{f}(\\omega).\n",
    "$$\n",
    "multiplying both sides of the above equation, by the integration factor $\\displaystyle e^{k\\omega^2 \\ t}$:\n",
    "$$\n",
    "\\frac{\\partial}{\\partial t}\\left( \\hat{u}(\\omega,t) e^{k\\omega^2 \\ t} \\right) = 0 \\ \\rightarrow \\ \\hat{u}(\\omega,t) e^{k\\omega^2 \\ t} = g(\\omega) \\ \\rightarrow \\ \\hat{u}(\\omega,t) = g(\\omega) e^{-k\\omega^2 \\ t}\n",
    "$$\n",
    "and since $\\hat{u}(\\omega,0)=g(\\omega) e^0 = \\hat{f}(\\omega)$, then:\n",
    "$$\n",
    "\\hat{u}(\\omega,t) = \\hat{f}(\\omega) e^{-k\\omega^2 \\ t}\n",
    "$$\n",
    "Now we want to return to the _spatial domain_ ($x$). After applying the (3) property, we found the inverse Fourier transform of $e^{-k\\omega^2 \\ t}$:\n",
    "$$\n",
    "\\frac{1}{2 \\pi}\\int_{-\\infty}^{\\infty} e^{-k\\omega^2 \\ t} e^{i \\omega t}d\\omega = \\frac{1}{2 \\pi} \\int_{-\\infty}^{\\infty} e^{-k\\omega^2 t + i \\omega t} d\\omega = \\frac{1}{\\sqrt{4 \\pi k t}}e^{-\\frac{1}{4kt}x^2}\n",
    "$$\n",
    "finally we get the general solution:\n",
    "$$\n",
    "u(x,t) = \\underbrace{\\frac{1}{\\sqrt{4 \\pi k t}}e^{-\\frac{1}{4kt}x^2}}_{\\phi(x,t)} \\star f(x) = \\int_{-\\infty}^{\\infty} \\phi(x-y,t)f(y)dy = \\frac{1}{\\sqrt{4 \\pi k t}} \\int_{-\\infty}^{\\infty} e^{-\\frac{(x-y)^2}{4kt}} f(y) dy\n",
    "$$"
   ]
  },
  {
   "cell_type": "markdown",
   "metadata": {},
   "source": [
    "<div id='11' />\n",
    "## Question XI\n",
    "\n",
    "### a) Taylor expansion approach"
   ]
  },
  {
   "cell_type": "code",
   "execution_count": 2,
   "metadata": {
    "collapsed": true
   },
   "outputs": [],
   "source": [
    "mu = 1.\n",
    "t0 = 0.\n",
    "tf = 10."
   ]
  },
  {
   "cell_type": "code",
   "execution_count": 3,
   "metadata": {
    "collapsed": true
   },
   "outputs": [],
   "source": [
    "\"\"\"\n",
    "Approximated solution by means of a 5th order Taylor expansion\n",
    "centered at t=0.\n",
    "\"\"\"\n",
    "def y_approx(t, mu=mu):\n",
    "    return 2. - t**2 + mu*t**3 + ((2-18*mu**2)/24)*t**4 + ((-54*mu-3*mu*(2-18*mu**2))/120)*t**5"
   ]
  },
  {
   "cell_type": "markdown",
   "metadata": {},
   "source": [
    "### b) Numeric integrator approach\n",
    "\n",
    "Since we have a second order ODE, we can define to extra variables $y_1$ and $y_2$ in \n",
    "order to get a system of ODEs, but of first order. Let $y_1 = y$ and $y_2 = \\dot{y}$ ($t$ is omitted for notation convenience). Then we have:\n",
    "\\begin{align}\n",
    "\\dot{y_1} &= \\dot{y} = y_2 \\\\\n",
    "\\dot{y_2} &= \\ddot{y} = \\mu (1-y_1^2)y_2 - y_1\n",
    "\\end{align}\n",
    "which could be solved with numerical integrators, with _Euler_ or _Runge Kutta_ methods (for example)."
   ]
  },
  {
   "cell_type": "code",
   "execution_count": 4,
   "metadata": {
    "collapsed": true
   },
   "outputs": [],
   "source": [
    "def odefunc(Y, mu=mu):\n",
    "    y1 = Y[0]\n",
    "    y2 = Y[1]\n",
    "    return np.array([y2, mu*(1.-y1**2.)*y2-y1])\n",
    "\n",
    "def euler_int(odefunc, dt, t0=t0, tf=tf):\n",
    "    n_iter = int((tf-t0)/dt)\n",
    "    Y = np.empty((n_iter+1,2))\n",
    "    Y[0,0] = 2.\n",
    "    Y[0,1] = 0.\n",
    "    for i in range(n_iter):\n",
    "        Y[i+1] = odefunc(Y[i])*dt + Y[i]\n",
    "    return Y[:,0]"
   ]
  },
  {
   "cell_type": "markdown",
   "metadata": {},
   "source": [
    "### c) Comparison"
   ]
  },
  {
   "cell_type": "code",
   "execution_count": 6,
   "metadata": {
    "collapsed": false,
    "scrolled": true
   },
   "outputs": [],
   "source": [
    "dt = 0.05\n",
    "euler_sol = euler_int(odefunc, dt, t0=t0, tf=tf)"
   ]
  },
  {
   "cell_type": "code",
   "execution_count": 7,
   "metadata": {
    "collapsed": false,
    "scrolled": true
   },
   "outputs": [],
   "source": [
    "times = np.linspace(t0, tf, int(tf/dt)+1)\n",
    "taylor_sol = y_approx(times)"
   ]
  },
  {
   "cell_type": "code",
   "execution_count": 10,
   "metadata": {
    "collapsed": false
   },
   "outputs": [
    {
     "data": {
      "image/png": "[encoded data removed]",
      "text/plain": [
       "<matplotlib.figure.Figure at 0x7f5a518d84e0>"
      ]
     },
     "metadata": {},
     "output_type": "display_data"
    }
   ],
   "source": [
    "plt.figure(figsize=(8,6))\n",
    "plt.plot(times, euler_sol, 'bo-', label='Euler')\n",
    "plt.plot(times, taylor_sol, 'ro-', label='Taylor')\n",
    "plt.title('Euler and Taylor approaches')\n",
    "#plt.xlim([-0.1,1.1])\n",
    "plt.ylim([-2.1,2.1])\n",
    "plt.legend(loc='lower left')\n",
    "plt.show()"
   ]
  },
  {
   "cell_type": "markdown",
   "metadata": {},
   "source": [
    "The Figure above, shows that both solutions are almost the same at $t$ close to $0$. However, they diverge to each other as $t \\rightarrow \\infty$. This is due to the Taylor approach centered at $t=0$ (approximates well for $t$ close to $0$ only). So the Euler integrator gives a more robust solution in this case.\n",
    "\n",
    "**Note**: A better approximation for Taylor could be achieved by taking high order terms in the expansion."
   ]
  },
  {
   "cell_type": "markdown",
   "metadata": {},
   "source": [
    "### References for question XI\n",
    "[1] Numerical Analysis, Timothy Sauer. Chapter 6: Ordinary Differential Equations."
   ]
  },
  {
   "cell_type": "markdown",
   "metadata": {},
   "source": [
    "<div id='12' />\n",
    "## Question XII\n",
    "\n",
    "In order to compute such integral, the _Cauchy's Integration Formula_ / _Cauchy's Differentiation Formula_ is needed.\n",
    "\n",
    "__Cauchy's Differentiation Formula.__ Let $f$ be an analytical function (infinitely complex differentiable) and let $\\gamma$ be an oriented circular path, with $D$ the region bounded by $\\gamma$. Then for every $a$ in the interior of $D$:\n",
    "$$\n",
    "f^{(n)}(a) = \\frac{n!}{2\\pi i} \\oint_\\gamma \\frac{f(z)}{(z-a)^{n+1}}\\, dz.\n",
    "$$\n",
    "\n",
    "Applying such formula we get:\n",
    "\n",
    "* $\\displaystyle f(0) = e^0 = \\frac{1}{2 \\pi i}\\oint_{\\gamma} \\frac{e^z}{z}dz \\rightarrow \\oint_{\\gamma} \\frac{e^z}{z}dz = 2 \\pi  i$\n",
    "* We take the partial fraction decomposition $\\displaystyle \\frac{1}{z(z-1)} = \\frac{1}{z-1} - \\frac{1}{z}$, and the additive property of contour integrals:\n",
    "$$ \\oint_{\\gamma} \\frac{e^z}{z(z-1)} dz = \\oint_{\\gamma}\\frac{e^z}{z-1}dz - \\oint_{\\gamma}\\frac{e^z}{z}dz$$\n",
    "the first integral can be calculated with $\\displaystyle f(1)=e^1 = \\frac{1}{2 \\pi  i}\\oint_{\\gamma}\\frac{e^z}{z-1}dz$, and the second integral was calculated previously. Then:\n",
    "$$ \\oint_{\\gamma} \\frac{e^z}{z(z-1)} dz = 2\\pi i e - 2 \\pi i = 2 \\pi i (e-1)$$\n",
    "* $\\displaystyle f^{(2)}(0)= e^0 = \\frac{2!}{2\\pi i} \\oint_{\\gamma} \\frac{e^z}{z^3}dz \\rightarrow \\oint_{\\gamma} \\frac{e^z}{z^3}dz = \\pi i$"
   ]
  },
  {
   "cell_type": "markdown",
   "metadata": {},
   "source": [
    "### References for quesion XII\n",
    "[1] https://en.wikipedia.org/wiki/Cauchy%27s_integral_formula \n",
    "\n",
    "[2] http://math.stackexchange.com/questions/376428/cauchy-integral-theorem-of-ez-z-1"
   ]
  },
  {
   "cell_type": "markdown",
   "metadata": {},
   "source": [
    "<div id='13' />\n",
    "## Question XIII\n",
    "\n",
    "First, by means of partial fractions the function could be decomposed as:\n",
    "$$\n",
    "f(z)=\\frac{1}{\\left( z-1\\right) \\left( z-2\\right) }=\\frac{1}{z-2}-\\frac{1}{z-1}\n",
    "$$\n",
    "\n",
    "Lets call each region $R_1: 1 < |z| < 2$ and $R_2: |z|>2$. For $R_1$ we expand each partial fraction as a geometric series:\n",
    "\n",
    "$$\n",
    "\\frac{1}{z-2} =\\frac{-1/2}{1-z/2}=\\sum_{n=0}^{\\infty }\\left( -\\frac{1}{2}\n",
    "\\right) \\left( \\frac{z}{2}\\right) ^{n} = \\sum_{n=0}^{\\infty }-\\frac{1}{2^{n+1}}z^{n} \\ \\ \\ |z|<2\n",
    "$$\n",
    "and\n",
    "$$\n",
    "\\frac{1}{z-1} =\\frac{1/z}{1-1/z}=\\sum_{n=0}^{\\infty }\\frac{1}{z}\\left(\n",
    "\\frac{1}{z}\\right) ^{n} = \\sum_{n=0}^{\\infty }\\frac{1}{z^{n+1}} \\ \\ \\ \\ \\ \\ \\ \\ \\ \\ \\ \\ \\ \\ \\ \\   |z|>1\n",
    "$$\n",
    "by adding term by term the two last results we get:\n",
    "$$\n",
    "f(z) = -\\left( \\sum_{n=0}^{\\infty}\\frac{z^n}{2^{n+1}} + \\sum_{n=1}^{\\infty}\\frac{1}{z^n} \\right) \\ \\ \\ \\text{with} \\ \\ 1 <|z|<2\n",
    "$$\n",
    "\n",
    "In an analogous way, we can compute the Laurent expansion on $R_2$. Similarly, expanding each partial fraction as a geometric series:\n",
    "$$\n",
    "\\frac{1}{z-2} =\\frac{1}{z\\left( 1-2/z\\right) }=\\frac{1}{z}\n",
    "\\sum_{n=0}^{\\infty }\\left( \\frac{2}{z}\\right) ^{n} = \\frac{1}{z}\\sum_{n=0}^{\\infty }2^{n}\\frac{1}{z^{n}}=\\sum_{n=0}^{\\infty}2^{n}\\frac{1}{z^{n+1}} \\ \\ \\ \\  \\left\\vert z\\right\\vert >2\n",
    "$$\n",
    "and\n",
    "$$\n",
    "\\frac{1}{z-1} = \\frac{1}{z\\left( 1-1/z\\right) } =  \\frac{1}{z}\\sum_{n=0}^{\\infty }\\left( \\frac{1}{z}\\right)\n",
    "^{n}=\\sum_{n=0}^{\\infty }\\frac{1}{z^{n+1}} \\ \\ \\ \\ \\ \\ \\ \\ \\ \\qquad \\ \\ \\ \\qquad \\ \\left\\vert z\\right\\vert >1\n",
    "$$\n",
    "adding again term by term, we get:\n",
    "$$\n",
    "f(z) = \\sum_{n=0}^{\\infty }\\frac{1}{z^{n+1}}(2^{n}-1)\\ \\ \\ \\text{with} \\ \\  \\left\\vert z\\right\\vert > 2\n",
    "$$\n",
    "\n",
    "An sketch of the regions is shown below.\n",
    "<img src=\"sketch.png\" style=\"width: 300px;\">"
   ]
  },
  {
   "cell_type": "markdown",
   "metadata": {},
   "source": [
    "### References for question XIII\n",
    "[1] http://math.stackexchange.com/questions/79012/finding-the-laurent-series-of-fz-1-z-1z-2"
   ]
  },
  {
   "cell_type": "markdown",
   "metadata": {},
   "source": [
    "<div id='14' />\n",
    "## Question XIV\n",
    "\n",
    "### a) \n",
    "\n",
    "We will consider the following _'polynomial'_ matrix:\n",
    "$$\n",
    "A = \\left[1 \\ | \\ x \\ | \\ x^2 \\ | \\ x^3 \\ \\right]\n",
    "$$\n",
    "In order to perform a QR factorization, a similar _Gram Shmidt Orthogonalization_ could be performed, so we can get a orthonormal basis of the vector space $<1,\\ x,\\ x^2,\\ x^3>$:\n",
    "\\begin{align}\n",
    "y_1(x) &= 1  \\ \\ \\rightarrow q_1(x) = \\frac{y_1(x)}{||y_1(x)||} = 1 \\\\\n",
    "y_2(x) &= x - q_1(x) <q_1(x), x> \\ \\ \\rightarrow q_2(x) = \\frac{y_2(x)}{||y_2(x)||} = x \\\\\n",
    "y_3(x) &= x^2 - q_1(x) <q_1(x), x^2> - q_2(x) <q_2(x), x^2> \\ \\ \\rightarrow q_3(x) = \\frac{y_3(x)}{||y_3(x)||} = \\frac{3}{2}x^2-\\frac{1}{2}\\\\\n",
    "y_4(x) &= x^3 - q_1(x) <q_1(x), x^3> - q_2(x) <q_2(x), x^3> - q_3(x) <q_3(x),x^3> \\ \\ \\rightarrow q_4(x) = \\frac{y_4(x)}{||y_4(x)||} = \\frac{5}{2}x^3 - \\frac{3}{2}x\n",
    "\\end{align}\n",
    "the entries $r_{i,j}$ of the $R$ matrix, can be computed as $\\displaystyle r_{ij} = \\int_{-1}^{1} \\overline{q_i(x)}a_j(x)\\ dx$. \n",
    "\n",
    "** Note: ** The polynomials shown above were scaled so that $y_k(1) = 1$, which corresponds to the scalar multiples of the _Legendre polynomials_.\n",
    "\n",
    "The following codes implements such concept:"
   ]
  },
  {
   "cell_type": "code",
   "execution_count": 17,
   "metadata": {
    "collapsed": true
   },
   "outputs": [],
   "source": [
    "\"\"\"\n",
    "Function to build polynomial matrices\n",
    "\"\"\"\n",
    "def buildA1(n):\n",
    "    x = sym.Symbol('x')\n",
    "    A = [x**i for i in range(n)]\n",
    "    return A\n",
    "\n",
    "def buildA2(n):\n",
    "    x = sym.Symbol('x')\n",
    "    A = [sym.sin(2*sym.pi*(i)*x) for i in range(1,n)]\n",
    "    A.insert(0,1.)\n",
    "    return A"
   ]
  },
  {
   "cell_type": "code",
   "execution_count": 18,
   "metadata": {
    "collapsed": false
   },
   "outputs": [
    {
     "name": "stdout",
     "output_type": "stream",
     "text": [
      "[1, x, x**2, x**3, x**4]\n"
     ]
    }
   ],
   "source": [
    "A1 = buildA1(5)\n",
    "print(A1)"
   ]
  },
  {
   "cell_type": "code",
   "execution_count": 22,
   "metadata": {
    "collapsed": false
   },
   "outputs": [
    {
     "data": {
      "image/png": "[encoded data removed]",
      "text/plain": [
       "<matplotlib.figure.Figure at 0x7f5a4ec687f0>"
      ]
     },
     "metadata": {},
     "output_type": "display_data"
    }
   ],
   "source": [
    "plt.figure(figsize=(6,6))\n",
    "for i in range(0,6):\n",
    "    x = np.linspace(-1,1,100)\n",
    "    plt.plot(x, x**i)\n",
    "    plt.ylim(-1.1,1.1)\n",
    "plt.title('Plot of monomial functions: x^k')\n",
    "plt.show()"
   ]
  },
  {
   "cell_type": "code",
   "execution_count": 43,
   "metadata": {
    "collapsed": false
   },
   "outputs": [],
   "source": [
    "def integrate(func):\n",
    "    x = sym.Symbol('x')\n",
    "    return sym.Integral(func, (x,-1,1)).evalf()"
   ]
  },
  {
   "cell_type": "code",
   "execution_count": 44,
   "metadata": {
    "collapsed": false
   },
   "outputs": [],
   "source": [
    "def gs_orthogonalization(A):\n",
    "    x = sym.Symbol('x')\n",
    "    n = len(A)\n",
    "    Q = list()\n",
    "    R = np.empty((n,n))\n",
    "    for j in range(n):\n",
    "        y = A[j]\n",
    "        for i in range(j-1):\n",
    "            R[i,j] = integrate(Q[i]*A[j])\n",
    "            y -= R[i,j]*Q[i]\n",
    "        y = y/sqrt(integrate(y*y))\n",
    "        Q.append(y)\n",
    "    return Q,R"
   ]
  },
  {
   "cell_type": "code",
   "execution_count": 45,
   "metadata": {
    "collapsed": false
   },
   "outputs": [
    {
     "name": "stdout",
     "output_type": "stream",
     "text": [
      "Q matrix: \n",
      " [0.707106781186547, 1.22474487139159*x, 2.37170824512628*x**2 - 0.790569415042095, 4.67707173346743*x**3 - 2.80624304008046*x - 3.78007548626922e-100, 9.28077650307344*x**4 - 7.95495128834866*x**2 - 1.29918615363568e-99*x + 0.795495128834866] \n",
      "\n"
     ]
    }
   ],
   "source": [
    "Q,R = gs_orthogonalization(A1)\n",
    "print('Q matrix: \\n {0} \\n'.format(Q))\n",
    "#print('R matrix: \\n {0} \\n'.format(R))"
   ]
  },
  {
   "cell_type": "code",
   "execution_count": 35,
   "metadata": {
    "collapsed": false
   },
   "outputs": [
    {
     "data": {
      "image/png": "[encoded data removed]",
      "text/plain": [
       "<matplotlib.figure.Figure at 0x7f5a4eb41fd0>"
      ]
     },
     "metadata": {},
     "output_type": "display_data"
    }
   ],
   "source": [
    "plt.figure(figsize=(6,6))\n",
    "for q in Q:\n",
    "    x = sym.Symbol('x')\n",
    "    xx = np.linspace(-1,1,100)\n",
    "    f = sym.lambdify(x, q, 'numpy')\n",
    "    plt.ylim(-1.1,1.1)\n",
    "    plt.plot(xx, f(xx)+0.*xx)\n",
    "plt.title('Orthogonalization of the monomials: x^k')\n",
    "plt.show()"
   ]
  },
  {
   "cell_type": "markdown",
   "metadata": {},
   "source": [
    "### b)\n",
    "\n",
    "Trying now with the matrix $A = \\left[1 \\ | \\ \\sin(2 \\pi x) \\ | \\cdots \\ | \\ \\sin(2\\pi(n-1)x) \\right]$, we get:"
   ]
  },
  {
   "cell_type": "code",
   "execution_count": 31,
   "metadata": {
    "collapsed": false
   },
   "outputs": [
    {
     "name": "stdout",
     "output_type": "stream",
     "text": [
      "[1.0, sin(2*pi*x), sin(4*pi*x), sin(6*pi*x), sin(8*pi*x)]\n"
     ]
    }
   ],
   "source": [
    "A2 = buildA2(5)\n",
    "print(A2)"
   ]
  },
  {
   "cell_type": "code",
   "execution_count": 32,
   "metadata": {
    "collapsed": false
   },
   "outputs": [
    {
     "name": "stdout",
     "output_type": "stream",
     "text": [
      "Q matrix: \n",
      " [0.7071067811865475, 1.0*sin(2*pi*x), 1.0*sin(4*pi*x) - 8.08214135186418e-101, 1.06448996000204e-109*sin(2*pi*x) + 1.0*sin(6*pi*x) - 8.08214135186418e-101, -2.12897992000408e-109*sin(2*pi*x) + 1.33061245000255e-110*sin(4*pi*x) + 1.0*sin(8*pi*x) - 8.08214135186418e-101] \n",
      "\n"
     ]
    }
   ],
   "source": [
    "Q,R = gs_orthogonalization(A2)\n",
    "print('Q matrix: \\n {0} \\n'.format(Q))\n",
    "#print('R matrix: \\n {0} \\n'.format(R))"
   ]
  },
  {
   "cell_type": "markdown",
   "metadata": {},
   "source": [
    "As we can see, the orthogonal functions in the columns of $Q$ are almost the same (by negligible numerical differences) as the functions in the columns of $A$. This means that the column space of $A$ was already an orthogonal basis!."
   ]
  },
  {
   "cell_type": "markdown",
   "metadata": {},
   "source": [
    "### c)\n",
    "Now instead of using functions on the columns of the matrix $A$, we can use the instantiation of such functions in a grid of points in $[-1,1]$. As functions corresponds to elements of an infinite dimensional vectorial space, we can see this process as approximating such functions by a finite dimensional vector.\n",
    "\n",
    "The function below build the numerical $A$ matrix, for the case of monomials functions."
   ]
  },
  {
   "cell_type": "code",
   "execution_count": 16,
   "metadata": {
    "collapsed": true
   },
   "outputs": [],
   "source": [
    "def buildA(m,n):\n",
    "    xx = np.linspace(-1,1,m)\n",
    "    A = np.zeros((m,n))\n",
    "    for i in range(n):\n",
    "        A[:,i] = xx**i\n",
    "    return A"
   ]
  },
  {
   "cell_type": "markdown",
   "metadata": {},
   "source": [
    "No we build the corresponding numerical matrix whose columns are $\\{1 , x^1, x^2, x^3, x^4 \\}$, with $100$ points on the interval $[-1,1]$. Next the QR factorization is computed."
   ]
  },
  {
   "cell_type": "code",
   "execution_count": 29,
   "metadata": {
    "collapsed": false
   },
   "outputs": [],
   "source": [
    "AA = buildA(100,5)\n",
    "QQ,RR  = sp.linalg.qr(AA)"
   ]
  },
  {
   "cell_type": "markdown",
   "metadata": {},
   "source": [
    "the results for the numerical orthogonalization are shown below (dotted). As can be noted, some scaling on the columns of $Q$ (numerical version) was done in order to match the plots. It's due to differences in the dimensions ($||\\cdot||_2$) between monomials and arrays. "
   ]
  },
  {
   "cell_type": "code",
   "execution_count": 39,
   "metadata": {
    "collapsed": false
   },
   "outputs": [
    {
     "data": {
      "image/png": "[encoded data removed]",
      "text/plain": [
       "<matplotlib.figure.Figure at 0x7f5a4e616278>"
      ]
     },
     "metadata": {},
     "output_type": "display_data"
    }
   ],
   "source": [
    "plt.figure(figsize=(6,6))\n",
    "for q in Q:\n",
    "    x = sym.Symbol('x')\n",
    "    xx = np.linspace(-1,1,100)\n",
    "    f = sym.lambdify(x, q, 'numpy')\n",
    "    plt.ylim(-1.1,1.1)\n",
    "    plt.plot(xx, f(xx)+0.*xx)     \n",
    "for i in range(5):\n",
    "    plt.plot(xx, -7*QQ[::-1,i], '.k')\n",
    "plt.title('Polynomial v/s Numerical Orthogonoalization')\n",
    "plt.show()"
   ]
  },
  {
   "cell_type": "markdown",
   "metadata": {},
   "source": [
    "### References for question XIV\n",
    "[1] Numerical Linear Algebra, Threfethen. Chapter 2: QR factorization and Least Squares."
   ]
  },
  {
   "cell_type": "markdown",
   "metadata": {},
   "source": [
    "<div id='15' />\n",
    "## Question XV\n",
    "\n",
    "The following expression is evaluated:\n",
    "$$\n",
    "f(x) = \\sum_{i=1}^{n}\\alpha_i \\ \\text{sinc}(x-x_i)\n",
    "$$\n",
    "at $x=x_j$ ($j=1,\\ldots,m$), for fixed $\\alpha_i$ and $x_i$. For operations count, no distinction will be made between addition and multiplication, and will be treated as FLOP (Floating Point Operation). Because $\\text{sinc}(x)=\\sin(x)/x$, and since `sin` is implemented as a processor instruction in most modern CPUs, we will count 2 FLOPs for each evaluation of $\\text{sinc(x)}$. Then we have:\n",
    "* $4$ FLOPs each term in the sum.\n",
    "* $4n$ FLOPs each function evaluation.\n",
    "* $4mn$ FLOPs the complete evaluation.\n",
    "\n",
    "In order to avoid the speedup of `NumPy` _vectorized instructions_, the following implementation performs it sequentially:"
   ]
  },
  {
   "cell_type": "code",
   "execution_count": 4,
   "metadata": {
    "collapsed": false
   },
   "outputs": [],
   "source": [
    "@numba.jit('float32[:] (float32[:],float32[:],float32[:])')\n",
    "def f(x, x0, alpha):\n",
    "    m = x.shape[0]\n",
    "    n = x0.shape[0]\n",
    "    out = np.zeros(m)\n",
    "    for j in range(m):\n",
    "        for i in range(n):\n",
    "            out[j] += alpha[i]*np.sinc(x[j]-x[i])\n",
    "    return out"
   ]
  },
  {
   "cell_type": "markdown",
   "metadata": {},
   "source": [
    "### Experiments for $x$"
   ]
  },
  {
   "cell_type": "code",
   "execution_count": 33,
   "metadata": {
    "collapsed": true
   },
   "outputs": [],
   "source": [
    "alpha = np.random.random(100)\n",
    "x0 = np.linspace(0., 10., 100)\n",
    "x1 = np.linspace(11.,20., 200)\n",
    "x2 = np.linspace(11.,20., 400)\n",
    "x3 = np.linspace(11.,20., 800)\n",
    "x4 = np.linspace(11.,20., 1600)"
   ]
  },
  {
   "cell_type": "code",
   "execution_count": 35,
   "metadata": {
    "collapsed": false
   },
   "outputs": [
    {
     "name": "stdout",
     "output_type": "stream",
     "text": [
      "25 loops, best of 3: 649 µs per loop\n",
      "25 loops, best of 3: 1.28 ms per loop\n",
      "25 loops, best of 3: 2.4 ms per loop\n",
      "25 loops, best of 3: 4.4 ms per loop\n"
     ]
    }
   ],
   "source": [
    "%timeit -n 25 f(x1, x0, alpha)\n",
    "%timeit -n 25 f(x2, x0, alpha)\n",
    "%timeit -n 25 f(x3, x0, alpha)\n",
    "%timeit -n 25 f(x4, x0, alpha)"
   ]
  },
  {
   "cell_type": "markdown",
   "metadata": {},
   "source": [
    "### Experiments for $x_0$"
   ]
  },
  {
   "cell_type": "code",
   "execution_count": 36,
   "metadata": {
    "collapsed": true
   },
   "outputs": [],
   "source": [
    "x01 = np.linspace(0., 10., 200)\n",
    "x02 = np.linspace(0., 10., 400)\n",
    "x03 = np.linspace(0., 10., 800)\n",
    "x04 = np.linspace(0., 10., 1600)\n",
    "x = np.linspace(11.,20., 100)"
   ]
  },
  {
   "cell_type": "code",
   "execution_count": 37,
   "metadata": {
    "collapsed": false
   },
   "outputs": [
    {
     "name": "stdout",
     "output_type": "stream",
     "text": [
      "25 loops, best of 3: 1.6 ms per loop\n",
      "25 loops, best of 3: 2.93 ms per loop\n",
      "25 loops, best of 3: 6.69 ms per loop\n",
      "25 loops, best of 3: 13.3 ms per loop\n"
     ]
    }
   ],
   "source": [
    "%timeit -n 25 f(x, x01, alpha)\n",
    "%timeit -n 25 f(x, x02, alpha)\n",
    "%timeit -n 25 f(x, x03, alpha)\n",
    "%timeit -n 25 f(x, x04, alpha)"
   ]
  },
  {
   "cell_type": "markdown",
   "metadata": {},
   "source": [
    "As shown in the experiments above, the computation time seems to be linear on $m$ and $n$, i.e, $O(m)$ and $O(n)$, which reaffirms our theoretical result: $\\text{computation time} = O(4mn)$. "
   ]
  },
  {
   "cell_type": "markdown",
   "metadata": {},
   "source": [
    "<div id='16' />\n",
    "## Question XVI\n",
    "\n",
    "First we have to recall Green's Theorem:\n",
    "\n",
    "\n",
    "**Theorem:** Let $C$ be a piecewise smooth and closed curve on a 2D plane, and let $D$ be the region bounded by $C$. If $L,M: \\mathbb{R}^2 \\rightarrow \\mathbb{R}$ are functions well defined on a open region containing $D$, with continuous partial derivatives there, then:\n",
    "$$\n",
    "\\oint _{C}(L\\,dx+M\\,dy) = \\int \\int_{D}\\left({\\frac {\\partial M}{\\partial x}}-{\\frac {\\partial L}{\\partial y}}\\right)\\,dx\\,dy\n",
    "$$\n",
    "where the path of integration for $C$ is counterclockwise.\n",
    "\n",
    "We now set $C$ as the polygon curve and $D$ the area bounded by the polygon. Since that area is $A = \\iint_{D}dA$, we can achieve that by setting $M(x,y)=x$ and $L(x,y)=0$, and then:\n",
    "$$\n",
    "A = \\oint_{C} x \\ dy\n",
    "$$\n",
    "where $C$ is traversed in counterclockwise $(x_0,y_0)\\rightarrow (x_1,y_1) \\rightarrow \\cdots$. If we split $C$ by the set of segments that connect two vertices: $C_k = (x_k,y_k)-(x_{k+1},y_{k+1})$, then we can write:\n",
    "$$\n",
    "C = C_0 \\cup C_1 \\cup \\cdots \\cup C_n\n",
    "$$\n",
    "with $(x_0,y_0)=(x_{n+1},y_{n+1})$. Due to the additive property of the line integral, the area $A$ is:\n",
    "$$\n",
    "A = \\oint_{C_0} x \\ dy + \\oint_{C_1} x \\ dy + \\cdots \\oint_{C_n} x \\ dy\n",
    "$$\n",
    "\n",
    "To compute each integral, a parametrization of $C_k$ is needed:\n",
    "$$\n",
    "C_k : \\{(x_{k+1}-x_k)t + x_k, \\ (y_{k+1}-y_k)t + y_k \\ \\ \\text{for} \\ 0\\leq t\\leq 1 \\}\n",
    "$$\n",
    "\n",
    "Substituting the parametrization in each subintegral:\n",
    "$$\n",
    "\\oint_{C_k} x \\ dy = \\int_0^1 \\left( (x_{k+1}-x_k)t+x_k) (y_{k+1}-y_k) \\right) \\ dt = \\frac{(x_{k+1}+x_k)(y_{k+1}-y_{k})}{2}\n",
    "$$\n",
    "and finally the area of the polygon can be expressed as:\n",
    "$$\n",
    "A = \\sum_{k=0}^n  \\frac{(x_{k+1}+x_k)(y_{k+1}-y_{k})}{2}\n",
    "$$"
   ]
  },
  {
   "cell_type": "code",
   "execution_count": 11,
   "metadata": {
    "collapsed": true
   },
   "outputs": [],
   "source": [
    "\"\"\"\n",
    "Computation of regular polygon area through Green's theorem.\n",
    "\"\"\"\n",
    "def polygon_area(x,y):\n",
    "    x_next = np.roll(x, shift=-1)\n",
    "    y_next = np.roll(y, shift=-1)\n",
    "    return 0.5*np.sum((x_next+x)*(y_next-y))"
   ]
  },
  {
   "cell_type": "markdown",
   "metadata": {},
   "source": [
    "#### Example 1: Area of rectangle"
   ]
  },
  {
   "cell_type": "code",
   "execution_count": 15,
   "metadata": {
    "collapsed": false
   },
   "outputs": [
    {
     "data": {
      "text/plain": [
       "9.0"
      ]
     },
     "execution_count": 15,
     "metadata": {},
     "output_type": "execute_result"
    }
   ],
   "source": [
    "x = np.array([0,3,3,0])\n",
    "y = np.array([0,0,3,3])\n",
    "polygon_area(x,y)"
   ]
  },
  {
   "cell_type": "markdown",
   "metadata": {},
   "source": [
    "#### Example 2:  Area of triangle"
   ]
  },
  {
   "cell_type": "code",
   "execution_count": 14,
   "metadata": {
    "collapsed": false
   },
   "outputs": [
    {
     "name": "stdout",
     "output_type": "stream",
     "text": [
      "18.0\n"
     ]
    }
   ],
   "source": [
    "x = np.array([0, 6, 3])\n",
    "y = np.array([0, 0, 6])\n",
    "print(polygon_area(x,y))"
   ]
  },
  {
   "cell_type": "markdown",
   "metadata": {},
   "source": [
    "### References for question XVI\n",
    "[1] http://mathinsight.org/greens_theorem_find_area"
   ]
  }
 ],
 "metadata": {
  "anaconda-cloud": {},
  "kernelspec": {
   "display_name": "Python [conda root]",
   "language": "python",
   "name": "conda-root-py"
  },
  "language_info": {
   "codemirror_mode": {
    "name": "ipython",
    "version": 2
   },
   "file_extension": ".py",
   "mimetype": "text/x-python",
   "name": "python",
   "nbconvert_exporter": "python",
   "pygments_lexer": "ipython2",
   "version": "2.7.12"
  }
 },
 "nbformat": 4,
 "nbformat_minor": 0
}
