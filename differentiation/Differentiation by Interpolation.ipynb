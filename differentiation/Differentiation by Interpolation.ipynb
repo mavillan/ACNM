{
 "cells": [
  {
   "cell_type": "markdown",
   "metadata": {},
   "source": [
    "### INF-510, 2016, Claudio Torres, ctorres@inf.utfsm.cl. DI-UTFSM"
   ]
  },
  {
   "cell_type": "markdown",
   "metadata": {},
   "source": [
    "# Differentiation by Interpolation"
   ]
  },
  {
   "cell_type": "code",
   "execution_count": 1,
   "metadata": {
    "collapsed": true
   },
   "outputs": [],
   "source": [
    "import matplotlib.pyplot as plt\n",
    "%matplotlib inline\n",
    "import numpy as np\n",
    "import scipy.sparse.linalg as sp\n",
    "import sympy as sym\n",
    "from scipy.linalg import toeplitz"
   ]
  },
  {
   "cell_type": "markdown",
   "metadata": {},
   "source": [
    "Defining symbolic variables"
   ]
  },
  {
   "cell_type": "code",
   "execution_count": 9,
   "metadata": {
    "collapsed": false
   },
   "outputs": [],
   "source": [
    "xj, h, x = sym.symbols('xj h x', reals=True)\n",
    "u1, u2, u3, u4, u5, u6, u7 = sym.symbols('u1 u2 u3 u4 u5 u6 u7', reals=True)"
   ]
  },
  {
   "cell_type": "markdown",
   "metadata": {},
   "source": [
    "\n",
    "## Do you remember Lagrange interpolation? Please do"
   ]
  },
  {
   "cell_type": "code",
   "execution_count": 10,
   "metadata": {
    "collapsed": true
   },
   "outputs": [],
   "source": [
    "# The little Lagrange polynomials\n",
    "def l_Lagrange(X,x,i):\n",
    "    l=1\n",
    "    n=len(X)\n",
    "    for k in np.arange(i):\n",
    "        l*=(x-X[k])\n",
    "    for k in np.arange(i+1,n):\n",
    "        l*=(x-X[k])\n",
    "    return l\n",
    "# The Lagrange polynomials\n",
    "def L_Lagrange(X,x,i):\n",
    "    num = l_Lagrange(X,x,i)\n",
    "    den = l_Lagrange(X,X[i],i)\n",
    "    L=num/den\n",
    "    return L\n",
    "# The Lagrange interpolation\n",
    "def P_Lagrange(X,x,Y):\n",
    "    P=0\n",
    "    n=len(X)\n",
    "    for i in np.arange(n):\n",
    "        P+=Y[i]*L_Lagrange(X,x,i)\n",
    "    return P"
   ]
  },
  {
   "cell_type": "markdown",
   "metadata": {},
   "source": [
    "## Just a small example of a interpolation of 2 points"
   ]
  },
  {
   "cell_type": "code",
   "execution_count": 11,
   "metadata": {
    "collapsed": false
   },
   "outputs": [
    {
     "name": "stdout",
     "output_type": "stream",
     "text": [
      "-3*x*(x - 2) + x*(x - 1)/2 + (x - 2)*(x - 1)/2\n"
     ]
    }
   ],
   "source": [
    "X=(0,1,2)\n",
    "Y=(1,3,1)\n",
    "P=P_Lagrange(X,x,Y)\n",
    "print(P)"
   ]
  },
  {
   "cell_type": "markdown",
   "metadata": {},
   "source": [
    "Plotting what we got"
   ]
  },
  {
   "cell_type": "code",
   "execution_count": 12,
   "metadata": {
    "collapsed": false
   },
   "outputs": [
    {
     "data": {
      "image/png": "[encoded data removed]",
      "text/plain": [
       "<matplotlib.figure.Figure at 0x7f12f00b9a50>"
      ]
     },
     "metadata": {},
     "output_type": "display_data"
    }
   ],
   "source": [
    "xx=np.linspace(min(X)-1,max(X)+1,1000)\n",
    "Pl=sym.lambdify(x,P)\n",
    "#Plv=np.vectorize(Pl)\n",
    "plt.figure()\n",
    "plt.plot(xx,Pl(xx))\n",
    "plt.plot(np.array(X),np.array(Y),'k.',markersize=20)\n",
    "plt.grid(True)\n",
    "plt.ylim([np.min(Pl(xx))-1,np.max(Pl(xx))+1])\n",
    "plt.show()"
   ]
  },
  {
   "cell_type": "markdown",
   "metadata": {},
   "source": [
    "## Let's find the 4th order differentiation approximation"
   ]
  },
  {
   "cell_type": "code",
   "execution_count": 6,
   "metadata": {
    "collapsed": false
   },
   "outputs": [
    {
     "name": "stdout",
     "output_type": "stream",
     "text": [
      "u1*(x - xj)*(-2*h + x - xj)*(-h + x - xj)*(h + x - xj)/(24*h**4) - u2*(x - xj)*(-2*h + x - xj)*(-h + x - xj)*(2*h + x - xj)/(6*h**4) + u3*(-2*h + x - xj)*(-h + x - xj)*(h + x - xj)*(2*h + x - xj)/(4*h**4) - u4*(x - xj)*(-2*h + x - xj)*(h + x - xj)*(2*h + x - xj)/(6*h**4) + u5*(x - xj)*(-h + x - xj)*(h + x - xj)*(2*h + x - xj)/(24*h**4)\n"
     ]
    }
   ],
   "source": [
    "X=(xj-2*h,xj-h,xj,xj+h,xj+2*h)\n",
    "Y=(u1,u2,u3,u4,u5)\n",
    "P=P_Lagrange(X,x,Y)\n",
    "print(P)"
   ]
  },
  {
   "cell_type": "code",
   "execution_count": 7,
   "metadata": {
    "collapsed": false
   },
   "outputs": [
    {
     "name": "stdout",
     "output_type": "stream",
     "text": [
      "u1*(x - xj)*(-2*h + x - xj)*(-h + x - xj)/(24*h**4) + u1*(x - xj)*(-2*h + x - xj)*(h + x - xj)/(24*h**4) + u1*(x - xj)*(-h + x - xj)*(h + x - xj)/(24*h**4) + u1*(-2*h + x - xj)*(-h + x - xj)*(h + x - xj)/(24*h**4) - u2*(x - xj)*(-2*h + x - xj)*(-h + x - xj)/(6*h**4) - u2*(x - xj)*(-2*h + x - xj)*(2*h + x - xj)/(6*h**4) - u2*(x - xj)*(-h + x - xj)*(2*h + x - xj)/(6*h**4) - u2*(-2*h + x - xj)*(-h + x - xj)*(2*h + x - xj)/(6*h**4) + u3*(-2*h + x - xj)*(-h + x - xj)*(h + x - xj)/(4*h**4) + u3*(-2*h + x - xj)*(-h + x - xj)*(2*h + x - xj)/(4*h**4) + u3*(-2*h + x - xj)*(h + x - xj)*(2*h + x - xj)/(4*h**4) + u3*(-h + x - xj)*(h + x - xj)*(2*h + x - xj)/(4*h**4) - u4*(x - xj)*(-2*h + x - xj)*(h + x - xj)/(6*h**4) - u4*(x - xj)*(-2*h + x - xj)*(2*h + x - xj)/(6*h**4) - u4*(x - xj)*(h + x - xj)*(2*h + x - xj)/(6*h**4) - u4*(-2*h + x - xj)*(h + x - xj)*(2*h + x - xj)/(6*h**4) + u5*(x - xj)*(-h + x - xj)*(h + x - xj)/(24*h**4) + u5*(x - xj)*(-h + x - xj)*(2*h + x - xj)/(24*h**4) + u5*(x - xj)*(h + x - xj)*(2*h + x - xj)/(24*h**4) + u5*(-h + x - xj)*(h + x - xj)*(2*h + x - xj)/(24*h**4)\n"
     ]
    }
   ],
   "source": [
    "Pp=sym.diff(P,x)\n",
    "print(Pp)"
   ]
  },
  {
   "cell_type": "code",
   "execution_count": 8,
   "metadata": {
    "collapsed": false
   },
   "outputs": [
    {
     "name": "stdout",
     "output_type": "stream",
     "text": [
      "u1/(12*h) - 2*u2/(3*h) + 2*u4/(3*h) - u5/(12*h)\n"
     ]
    }
   ],
   "source": [
    "PpE=Pp.subs({x:xj})\n",
    "print(PpE)"
   ]
  },
  {
   "cell_type": "code",
   "execution_count": null,
   "metadata": {
    "collapsed": true
   },
   "outputs": [],
   "source": []
  },
  {
   "cell_type": "markdown",
   "metadata": {},
   "source": [
    "# Class work"
   ]
  },
  {
   "cell_type": "markdown",
   "metadata": {},
   "source": [
    "## How to you find a 6th order approximation? Please do it"
   ]
  },
  {
   "cell_type": "code",
   "execution_count": 13,
   "metadata": {
    "collapsed": false,
    "scrolled": true
   },
   "outputs": [
    {
     "name": "stdout",
     "output_type": "stream",
     "text": [
      "u1*(x - xj)*(-3*h + x - xj)*(-2*h + x - xj)*(-h + x - xj)*(h + x - xj)*(2*h + x - xj)/(720*h**6) - u2*(x - xj)*(-3*h + x - xj)*(-2*h + x - xj)*(-h + x - xj)*(h + x - xj)*(3*h + x - xj)/(120*h**6) + u3*(x - xj)*(-3*h + x - xj)*(-2*h + x - xj)*(-h + x - xj)*(2*h + x - xj)*(3*h + x - xj)/(48*h**6) - u4*(-3*h + x - xj)*(-2*h + x - xj)*(-h + x - xj)*(h + x - xj)*(2*h + x - xj)*(3*h + x - xj)/(36*h**6) + u5*(x - xj)*(-3*h + x - xj)*(-2*h + x - xj)*(h + x - xj)*(2*h + x - xj)*(3*h + x - xj)/(48*h**6) - u6*(x - xj)*(-3*h + x - xj)*(-h + x - xj)*(h + x - xj)*(2*h + x - xj)*(3*h + x - xj)/(120*h**6) + u7*(x - xj)*(-2*h + x - xj)*(-h + x - xj)*(h + x - xj)*(2*h + x - xj)*(3*h + x - xj)/(720*h**6)\n"
     ]
    }
   ],
   "source": [
    "X=(xj-3*h, xj-2*h ,xj-h ,xj ,xj+h ,xj+2*h, xj+3*h)\n",
    "Y=(u1, u2, u3, u4, u5, u6, u7)\n",
    "P=P_Lagrange(X,x,Y)\n",
    "print(P)"
   ]
  },
  {
   "cell_type": "code",
   "execution_count": 14,
   "metadata": {
    "collapsed": false,
    "scrolled": true
   },
   "outputs": [
    {
     "name": "stdout",
     "output_type": "stream",
     "text": [
      "u1*(x - xj)*(-3*h + x - xj)*(-2*h + x - xj)*(-h + x - xj)*(h + x - xj)/(720*h**6) + u1*(x - xj)*(-3*h + x - xj)*(-2*h + x - xj)*(-h + x - xj)*(2*h + x - xj)/(720*h**6) + u1*(x - xj)*(-3*h + x - xj)*(-2*h + x - xj)*(h + x - xj)*(2*h + x - xj)/(720*h**6) + u1*(x - xj)*(-3*h + x - xj)*(-h + x - xj)*(h + x - xj)*(2*h + x - xj)/(720*h**6) + u1*(x - xj)*(-2*h + x - xj)*(-h + x - xj)*(h + x - xj)*(2*h + x - xj)/(720*h**6) + u1*(-3*h + x - xj)*(-2*h + x - xj)*(-h + x - xj)*(h + x - xj)*(2*h + x - xj)/(720*h**6) - u2*(x - xj)*(-3*h + x - xj)*(-2*h + x - xj)*(-h + x - xj)*(h + x - xj)/(120*h**6) - u2*(x - xj)*(-3*h + x - xj)*(-2*h + x - xj)*(-h + x - xj)*(3*h + x - xj)/(120*h**6) - u2*(x - xj)*(-3*h + x - xj)*(-2*h + x - xj)*(h + x - xj)*(3*h + x - xj)/(120*h**6) - u2*(x - xj)*(-3*h + x - xj)*(-h + x - xj)*(h + x - xj)*(3*h + x - xj)/(120*h**6) - u2*(x - xj)*(-2*h + x - xj)*(-h + x - xj)*(h + x - xj)*(3*h + x - xj)/(120*h**6) - u2*(-3*h + x - xj)*(-2*h + x - xj)*(-h + x - xj)*(h + x - xj)*(3*h + x - xj)/(120*h**6) + u3*(x - xj)*(-3*h + x - xj)*(-2*h + x - xj)*(-h + x - xj)*(2*h + x - xj)/(48*h**6) + u3*(x - xj)*(-3*h + x - xj)*(-2*h + x - xj)*(-h + x - xj)*(3*h + x - xj)/(48*h**6) + u3*(x - xj)*(-3*h + x - xj)*(-2*h + x - xj)*(2*h + x - xj)*(3*h + x - xj)/(48*h**6) + u3*(x - xj)*(-3*h + x - xj)*(-h + x - xj)*(2*h + x - xj)*(3*h + x - xj)/(48*h**6) + u3*(x - xj)*(-2*h + x - xj)*(-h + x - xj)*(2*h + x - xj)*(3*h + x - xj)/(48*h**6) + u3*(-3*h + x - xj)*(-2*h + x - xj)*(-h + x - xj)*(2*h + x - xj)*(3*h + x - xj)/(48*h**6) - u4*(-3*h + x - xj)*(-2*h + x - xj)*(-h + x - xj)*(h + x - xj)*(2*h + x - xj)/(36*h**6) - u4*(-3*h + x - xj)*(-2*h + x - xj)*(-h + x - xj)*(h + x - xj)*(3*h + x - xj)/(36*h**6) - u4*(-3*h + x - xj)*(-2*h + x - xj)*(-h + x - xj)*(2*h + x - xj)*(3*h + x - xj)/(36*h**6) - u4*(-3*h + x - xj)*(-2*h + x - xj)*(h + x - xj)*(2*h + x - xj)*(3*h + x - xj)/(36*h**6) - u4*(-3*h + x - xj)*(-h + x - xj)*(h + x - xj)*(2*h + x - xj)*(3*h + x - xj)/(36*h**6) - u4*(-2*h + x - xj)*(-h + x - xj)*(h + x - xj)*(2*h + x - xj)*(3*h + x - xj)/(36*h**6) + u5*(x - xj)*(-3*h + x - xj)*(-2*h + x - xj)*(h + x - xj)*(2*h + x - xj)/(48*h**6) + u5*(x - xj)*(-3*h + x - xj)*(-2*h + x - xj)*(h + x - xj)*(3*h + x - xj)/(48*h**6) + u5*(x - xj)*(-3*h + x - xj)*(-2*h + x - xj)*(2*h + x - xj)*(3*h + x - xj)/(48*h**6) + u5*(x - xj)*(-3*h + x - xj)*(h + x - xj)*(2*h + x - xj)*(3*h + x - xj)/(48*h**6) + u5*(x - xj)*(-2*h + x - xj)*(h + x - xj)*(2*h + x - xj)*(3*h + x - xj)/(48*h**6) + u5*(-3*h + x - xj)*(-2*h + x - xj)*(h + x - xj)*(2*h + x - xj)*(3*h + x - xj)/(48*h**6) - u6*(x - xj)*(-3*h + x - xj)*(-h + x - xj)*(h + x - xj)*(2*h + x - xj)/(120*h**6) - u6*(x - xj)*(-3*h + x - xj)*(-h + x - xj)*(h + x - xj)*(3*h + x - xj)/(120*h**6) - u6*(x - xj)*(-3*h + x - xj)*(-h + x - xj)*(2*h + x - xj)*(3*h + x - xj)/(120*h**6) - u6*(x - xj)*(-3*h + x - xj)*(h + x - xj)*(2*h + x - xj)*(3*h + x - xj)/(120*h**6) - u6*(x - xj)*(-h + x - xj)*(h + x - xj)*(2*h + x - xj)*(3*h + x - xj)/(120*h**6) - u6*(-3*h + x - xj)*(-h + x - xj)*(h + x - xj)*(2*h + x - xj)*(3*h + x - xj)/(120*h**6) + u7*(x - xj)*(-2*h + x - xj)*(-h + x - xj)*(h + x - xj)*(2*h + x - xj)/(720*h**6) + u7*(x - xj)*(-2*h + x - xj)*(-h + x - xj)*(h + x - xj)*(3*h + x - xj)/(720*h**6) + u7*(x - xj)*(-2*h + x - xj)*(-h + x - xj)*(2*h + x - xj)*(3*h + x - xj)/(720*h**6) + u7*(x - xj)*(-2*h + x - xj)*(h + x - xj)*(2*h + x - xj)*(3*h + x - xj)/(720*h**6) + u7*(x - xj)*(-h + x - xj)*(h + x - xj)*(2*h + x - xj)*(3*h + x - xj)/(720*h**6) + u7*(-2*h + x - xj)*(-h + x - xj)*(h + x - xj)*(2*h + x - xj)*(3*h + x - xj)/(720*h**6)\n"
     ]
    }
   ],
   "source": [
    "Pp=sym.diff(P,x)\n",
    "print(Pp)"
   ]
  },
  {
   "cell_type": "code",
   "execution_count": 15,
   "metadata": {
    "collapsed": false
   },
   "outputs": [
    {
     "name": "stdout",
     "output_type": "stream",
     "text": [
      "-u1/(60*h) + 3*u2/(20*h) - 3*u3/(4*h) + 3*u5/(4*h) - 3*u6/(20*h) + u7/(60*h)\n"
     ]
    }
   ],
   "source": [
    "PpE=Pp.subs({x:xj})\n",
    "print(PpE)"
   ]
  },
  {
   "cell_type": "markdown",
   "metadata": {},
   "source": [
    "## How do you find a second order approximation on a left boundary? i.e. say you have $u_1(x_1)$, $u_2(x_2)$ and $u_3(x_3)$, interpolate them and compute the derivative at $x_1$."
   ]
  },
  {
   "cell_type": "code",
   "execution_count": 16,
   "metadata": {
    "collapsed": false
   },
   "outputs": [
    {
     "name": "stdout",
     "output_type": "stream",
     "text": [
      "u1*(x - xj)*(-h + x - xj)/(2*h**2) - u2*(-h + x - xj)*(h + x - xj)/h**2 + u3*(x - xj)*(h + x - xj)/(2*h**2)\n"
     ]
    }
   ],
   "source": [
    "X=(xj-h,xj,xj+h)\n",
    "Y=(u1,u2,u3)\n",
    "P=P_Lagrange(X,x,Y)\n",
    "print(P)"
   ]
  },
  {
   "cell_type": "code",
   "execution_count": 17,
   "metadata": {
    "collapsed": false
   },
   "outputs": [
    {
     "name": "stdout",
     "output_type": "stream",
     "text": [
      "u1*(x - xj)/(2*h**2) + u1*(-h + x - xj)/(2*h**2) - u2*(-h + x - xj)/h**2 - u2*(h + x - xj)/h**2 + u3*(x - xj)/(2*h**2) + u3*(h + x - xj)/(2*h**2)\n"
     ]
    }
   ],
   "source": [
    "Pp=sym.diff(P,x)\n",
    "print(Pp)"
   ]
  },
  {
   "cell_type": "code",
   "execution_count": 19,
   "metadata": {
    "collapsed": false
   },
   "outputs": [
    {
     "name": "stdout",
     "output_type": "stream",
     "text": [
      "-3*u1/(2*h) + 2*u2/h - u3/(2*h)\n"
     ]
    }
   ],
   "source": [
    "PpE=Pp.subs({x:xj-h})\n",
    "print(PpE)"
   ]
  },
  {
   "cell_type": "code",
   "execution_count": 20,
   "metadata": {
    "collapsed": false
   },
   "outputs": [
    {
     "name": "stdout",
     "output_type": "stream",
     "text": [
      "-u1/(2*h) + u3/(2*h)\n"
     ]
    }
   ],
   "source": [
    "PpE=Pp.subs({x:xj})\n",
    "print(PpE)"
   ]
  },
  {
   "cell_type": "code",
   "execution_count": 21,
   "metadata": {
    "collapsed": false
   },
   "outputs": [
    {
     "name": "stdout",
     "output_type": "stream",
     "text": [
      "u1/(2*h) - 2*u2/h + 3*u3/(2*h)\n"
     ]
    }
   ],
   "source": [
    "PpE=Pp.subs({x:xj+h})\n",
    "print(PpE)"
   ]
  },
  {
   "cell_type": "code",
   "execution_count": null,
   "metadata": {
    "collapsed": true
   },
   "outputs": [],
   "source": []
  }
 ],
 "metadata": {
  "anaconda-cloud": {},
  "kernelspec": {
   "display_name": "Python [conda env:python3]",
   "language": "python",
   "name": "conda-env-python3-py"
  },
  "language_info": {
   "codemirror_mode": {
    "name": "ipython",
    "version": 2
   },
   "file_extension": ".py",
   "mimetype": "text/x-python",
   "name": "python",
   "nbconvert_exporter": "python",
   "pygments_lexer": "ipython2",
   "version": "2.7.12"
  }
 },
 "nbformat": 4,
 "nbformat_minor": 0
}
